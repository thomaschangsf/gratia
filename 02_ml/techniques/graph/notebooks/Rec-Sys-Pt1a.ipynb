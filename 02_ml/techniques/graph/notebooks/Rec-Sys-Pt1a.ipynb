{
 "cells": [
  {
   "cell_type": "markdown",
   "id": "de1f4b1e",
   "metadata": {},
   "source": [
    "# Part0: Setup\n",
    "- Based on https://towardsdatascience.com/hands-on-graph-neural-networks-with-pytorch-pytorch-geometric-359487e221a8\n",
    "- github: https://github.com/khuangaf/Pytorch-Geometric-YooChoose    "
   ]
  },
  {
   "cell_type": "markdown",
   "id": "8ea0f698",
   "metadata": {},
   "source": [
    "### RecSys 2015\n",
    "- Predict whether there will be a buy event followed by a sequence of clicks\n",
    "- Predict which item will be bought"
   ]
  },
  {
   "cell_type": "markdown",
   "id": "1b5a7684",
   "metadata": {},
   "source": [
    "# Part1: Torch-Geometric Tutorial"
   ]
  },
  {
   "cell_type": "markdown",
   "id": "32d6052e",
   "metadata": {},
   "source": [
    "### Create Graph"
   ]
  },
  {
   "cell_type": "code",
   "execution_count": 171,
   "id": "57467c91",
   "metadata": {},
   "outputs": [
    {
     "data": {
      "text/plain": [
       "Data(edge_index=[2, 5], x=[4, 2], y=[4])"
      ]
     },
     "execution_count": 171,
     "metadata": {},
     "output_type": "execute_result"
    }
   ],
   "source": [
    "import torch\n",
    "from torch_geometric.data import Data\n",
    "\n",
    "# feature vectors.  element 0 has a 2D feature vector [2,1]\n",
    "features = torch.tensor([[2,1], [5,6], [3,7], [12,0]], dtype=torch.float)\n",
    "\n",
    "# labels for all nodes in our graph\n",
    "labels = torch.tensor([0, 1, 0, 1], dtype=torch.float)\n",
    "\n",
    "# edge matrix\n",
    "edge_index = torch.tensor([[0, 1, 2, 0, 3],  # source nodes\n",
    "                           [1, 0, 1, 3, 2]], # dest nodes\n",
    "                          dtype=torch.long)\n",
    "\n",
    "# Create data object\n",
    "data = Data(x=features, y=labels, edge_index=edge_index)\n",
    "data"
   ]
  },
  {
   "cell_type": "code",
   "execution_count": 172,
   "id": "49168d93",
   "metadata": {},
   "outputs": [
    {
     "data": {
      "text/plain": [
       "{'edge_index': tensor([[0, 1, 2, 0, 3],\n",
       "         [1, 0, 1, 3, 2]]),\n",
       " 'x': tensor([[ 2.,  1.],\n",
       "         [ 5.,  6.],\n",
       "         [ 3.,  7.],\n",
       "         [12.,  0.]]),\n",
       " 'y': tensor([0., 1., 0., 1.])}"
      ]
     },
     "execution_count": 172,
     "metadata": {},
     "output_type": "execute_result"
    }
   ],
   "source": [
    "data.to_dict()"
   ]
  },
  {
   "cell_type": "markdown",
   "id": "0eb346af",
   "metadata": {},
   "source": [
    "### Dataset\n",
    "- 2 types: \n",
    "    * InMemoryDataset: data fits into RAM\n",
    "    * Dataset: can spill onto disk\n",
    "- Need to implement 4 abstract functions\n",
    "    * raw_file_names(): It returns a list that shows a list of raw, unprocessed file names. If you only have a file then the returned list should only contain 1 element. In fact, you can simply return an empty list and specify your file later in process().\n",
    "\n",
    "    * processed_file_names()L Similar to the last function, it also returns a list containing the file names of all the processed data. After process() is called, Usually, the returned list should only have one element, storing the only processed data file name.\n",
    "\n",
    "    * download()L This function should download the data you are working on to the directory as specified in self.raw_dir. If you don’t need to download data, simply drop in pass in the function.\n",
    "\n",
    "    * process() This is the most important method of Dataset. You need to gather your data into a list of Data objects. Then, call self.collate() to compute the slices that will be used by the DataLoader object. The following shows an example of the custom dataset fro"
   ]
  },
  {
   "cell_type": "markdown",
   "id": "855e233b",
   "metadata": {},
   "source": [
    "### DataLoader\n",
    "- Uses the dataset defined to feed to the microbatch training\n",
    "    * loader = DataLoader(dataset, batch_size=512, shuffle=True)"
   ]
  },
  {
   "cell_type": "markdown",
   "id": "d3155b9c",
   "metadata": {},
   "source": [
    "### Message Passing\n",
    "- how to update current node's embedding\n",
    "```\n",
    "Message passing refers to the process by how a node's embedding is updated using the info described here.\n",
    "\t\t\tx_i^(k) = fn_update( \n",
    "\t\t\t\tx_i^(k-1), \n",
    "\t\t\t\tfn_aggregate( \n",
    "\t\t\t\t\tfor j in neighbor(i):\n",
    "\t\t\t\t\t\tfn_message(\n",
    "\t\t\t\t\t\t\tx_i^(k-1),\t# current node i at prev time\n",
    "\t\t\t\t\t\t\tx_j^(k-1),\t# neighbor node j at prev time\n",
    "\t\t\t\t\t\t\tedge_i,j\n",
    "\t\t\t\t\t\t)\n",
    "\t\t\t\t)  \n",
    "\t\t\t)\n",
    "```"
   ]
  },
  {
   "cell_type": "markdown",
   "id": "895a485d",
   "metadata": {},
   "source": [
    "#### Applied to GraphSAGE"
   ]
  },
  {
   "cell_type": "code",
   "execution_count": 13,
   "id": "b2b4236e",
   "metadata": {},
   "outputs": [],
   "source": [
    "# msg function: Each neighboring node embedding is multiplied by a weight matrix, added a bias and passed through an activation function. \n",
    "# This can be easily done with torch.nn.Linear.\n",
    "\n",
    "class SAGEConv():#MessagePassing):\n",
    "    def __init__(self, in_channels, out_channels):\n",
    "        super(SAGEConv, self).__init__(aggr='max')\n",
    "        self.lin = torch.nn.Linear(in_channels, out_channels)\n",
    "        self.act = torch.nn.ReLU()\n",
    "        \n",
    "    def message(self, x_j):\n",
    "        # x_j has shape [E, in_channels]\n",
    "\n",
    "        x_j = self.lin(x_j)\n",
    "        x_j = self.act(x_j)\n",
    "      \n",
    "        return x_j\n"
   ]
  },
  {
   "cell_type": "code",
   "execution_count": 14,
   "id": "8bc8ef1d",
   "metadata": {},
   "outputs": [],
   "source": [
    "# update function,  the aggregated message and the current node embedding is aggregated. \n",
    "# Then, it is multiplied by another weight matrix and applied another activation function.\n",
    "\n",
    "class SAGEConv():# MessagePassing):\n",
    "    def __init__(self, in_channels, out_channels):\n",
    "        super(SAGEConv, self).__init__(aggr='max')\n",
    "        self.update_lin = torch.nn.Linear(in_channels + out_channels, in_channels, bias=False)\n",
    "        self.update_act = torch.nn.ReLU()\n",
    "        \n",
    "    def update(self, aggr_out, x):\n",
    "        # aggr_out has shape [N, out_channels]\n",
    "        \n",
    "        new_embedding = torch.cat([aggr_out, x], dim=1)\n",
    "        new_embedding = self.update_lin(new_embedding)\n",
    "        new_embedding = torch.update_act(new_embedding)\n",
    "        \n",
    "        return new_embedding"
   ]
  },
  {
   "cell_type": "code",
   "execution_count": 3,
   "id": "606be234",
   "metadata": {},
   "outputs": [],
   "source": [
    "# Full GraphSAGE Sexamples\n",
    "\n",
    "import torch\n",
    "from torch.nn import Sequential as Seq, Linear, ReLU\n",
    "from torch_geometric.nn import MessagePassing\n",
    "from torch_geometric.utils import remove_self_loops, add_self_loops\n",
    "\n",
    "class SAGEConv(MessagePassing):\n",
    "    def __init__(self, in_channels, out_channels):\n",
    "        super(SAGEConv, self).__init__(aggr='max') #  \"Max\" aggregation.\n",
    "        self.lin = torch.nn.Linear(in_channels, out_channels)\n",
    "        self.act = torch.nn.ReLU()\n",
    "        self.update_lin = torch.nn.Linear(in_channels + out_channels, in_channels, bias=False)\n",
    "        self.update_act = torch.nn.ReLU()\n",
    "        \n",
    "    def forward(self, x, edge_index):\n",
    "        # x has shape [N, in_channels]\n",
    "        # edge_index has shape [2, E]\n",
    "        \n",
    "        \n",
    "        edge_index, _ = remove_self_loops(edge_index)\n",
    "        edge_index, _ = add_self_loops(edge_index, num_nodes=x.size(0))\n",
    "        \n",
    "        \n",
    "        return self.propagate(edge_index, size=(x.size(0), x.size(0)), x=x)\n",
    "\n",
    "    def message(self, x_j):\n",
    "        # x_j has shape [E, in_channels]\n",
    "\n",
    "        x_j = self.lin(x_j)\n",
    "        x_j = self.act(x_j)\n",
    "        \n",
    "        return x_j\n",
    "\n",
    "    def update(self, aggr_out, x):\n",
    "        # aggr_out has shape [N, out_channels]\n",
    "\n",
    "\n",
    "        new_embedding = torch.cat([aggr_out, x], dim=1)\n",
    "        \n",
    "        new_embedding = self.update_lin(new_embedding)\n",
    "        new_embedding = self.update_act(new_embedding)\n",
    "        \n",
    "        return new_embedding"
   ]
  },
  {
   "cell_type": "markdown",
   "id": "c97f35f2",
   "metadata": {},
   "source": [
    "# Part2: RecSys 2015 Challenge"
   ]
  },
  {
   "cell_type": "markdown",
   "id": "918c1a2b",
   "metadata": {},
   "source": [
    "### 2.1: Read and Process Data"
   ]
  },
  {
   "cell_type": "code",
   "execution_count": 2,
   "id": "16fef0ef",
   "metadata": {},
   "outputs": [
    {
     "name": "stderr",
     "output_type": "stream",
     "text": [
      "/Users/chang/Documents/dev/git/ml/Graph-Machine-Learning/.env/lib/python3.8/site-packages/IPython/core/interactiveshell.py:3169: DtypeWarning: Columns (3) have mixed types.Specify dtype option on import or set low_memory=False.\n",
      "  has_raised = await self.run_ast_nodes(code_ast.body, cell_name,\n"
     ]
    },
    {
     "data": {
      "text/html": [
       "<div>\n",
       "<style scoped>\n",
       "    .dataframe tbody tr th:only-of-type {\n",
       "        vertical-align: middle;\n",
       "    }\n",
       "\n",
       "    .dataframe tbody tr th {\n",
       "        vertical-align: top;\n",
       "    }\n",
       "\n",
       "    .dataframe thead th {\n",
       "        text-align: right;\n",
       "    }\n",
       "</style>\n",
       "<table border=\"1\" class=\"dataframe\">\n",
       "  <thead>\n",
       "    <tr style=\"text-align: right;\">\n",
       "      <th></th>\n",
       "      <th>session_id</th>\n",
       "      <th>timestamp</th>\n",
       "      <th>item_id</th>\n",
       "      <th>category</th>\n",
       "    </tr>\n",
       "  </thead>\n",
       "  <tbody>\n",
       "    <tr>\n",
       "      <th>0</th>\n",
       "      <td>1</td>\n",
       "      <td>2014-04-07T10:51:09.277Z</td>\n",
       "      <td>214536502</td>\n",
       "      <td>0</td>\n",
       "    </tr>\n",
       "    <tr>\n",
       "      <th>1</th>\n",
       "      <td>1</td>\n",
       "      <td>2014-04-07T10:54:09.868Z</td>\n",
       "      <td>214536500</td>\n",
       "      <td>0</td>\n",
       "    </tr>\n",
       "  </tbody>\n",
       "</table>\n",
       "</div>"
      ],
      "text/plain": [
       "   session_id                 timestamp    item_id category\n",
       "0           1  2014-04-07T10:51:09.277Z  214536502        0\n",
       "1           1  2014-04-07T10:54:09.868Z  214536500        0"
      ]
     },
     "execution_count": 2,
     "metadata": {},
     "output_type": "execute_result"
    }
   ],
   "source": [
    "import pandas as pd\n",
    "df_clicks = pd.read_csv('/Users/chang/Documents/dev/git/ml/Graph-Machine-Learning/torch-geometric/data/yoochoose-clicks.dat', header=None)\n",
    "df_clicks.columns = ['session_id', 'timestamp', 'item_id', 'category']\n",
    "df_clicks.head(2)"
   ]
  },
  {
   "cell_type": "code",
   "execution_count": 3,
   "id": "b9840170",
   "metadata": {},
   "outputs": [
    {
     "data": {
      "text/html": [
       "<div>\n",
       "<style scoped>\n",
       "    .dataframe tbody tr th:only-of-type {\n",
       "        vertical-align: middle;\n",
       "    }\n",
       "\n",
       "    .dataframe tbody tr th {\n",
       "        vertical-align: top;\n",
       "    }\n",
       "\n",
       "    .dataframe thead th {\n",
       "        text-align: right;\n",
       "    }\n",
       "</style>\n",
       "<table border=\"1\" class=\"dataframe\">\n",
       "  <thead>\n",
       "    <tr style=\"text-align: right;\">\n",
       "      <th></th>\n",
       "      <th>session_id</th>\n",
       "      <th>timestamp</th>\n",
       "      <th>item_id</th>\n",
       "      <th>category</th>\n",
       "    </tr>\n",
       "  </thead>\n",
       "  <tbody>\n",
       "    <tr>\n",
       "      <th>0</th>\n",
       "      <td>1</td>\n",
       "      <td>2014-04-07T10:51:09.277Z</td>\n",
       "      <td>2053</td>\n",
       "      <td>0</td>\n",
       "    </tr>\n",
       "    <tr>\n",
       "      <th>1</th>\n",
       "      <td>1</td>\n",
       "      <td>2014-04-07T10:54:09.868Z</td>\n",
       "      <td>2052</td>\n",
       "      <td>0</td>\n",
       "    </tr>\n",
       "    <tr>\n",
       "      <th>2</th>\n",
       "      <td>1</td>\n",
       "      <td>2014-04-07T10:54:46.998Z</td>\n",
       "      <td>2054</td>\n",
       "      <td>0</td>\n",
       "    </tr>\n",
       "    <tr>\n",
       "      <th>3</th>\n",
       "      <td>1</td>\n",
       "      <td>2014-04-07T10:57:00.306Z</td>\n",
       "      <td>9876</td>\n",
       "      <td>0</td>\n",
       "    </tr>\n",
       "    <tr>\n",
       "      <th>4</th>\n",
       "      <td>2</td>\n",
       "      <td>2014-04-07T13:56:37.614Z</td>\n",
       "      <td>19448</td>\n",
       "      <td>0</td>\n",
       "    </tr>\n",
       "  </tbody>\n",
       "</table>\n",
       "</div>"
      ],
      "text/plain": [
       "   session_id                 timestamp  item_id category\n",
       "0           1  2014-04-07T10:51:09.277Z     2053        0\n",
       "1           1  2014-04-07T10:54:09.868Z     2052        0\n",
       "2           1  2014-04-07T10:54:46.998Z     2054        0\n",
       "3           1  2014-04-07T10:57:00.306Z     9876        0\n",
       "4           2  2014-04-07T13:56:37.614Z    19448        0"
      ]
     },
     "execution_count": 3,
     "metadata": {},
     "output_type": "execute_result"
    }
   ],
   "source": [
    "from sklearn.preprocessing import LabelEncoder\n",
    "item_encoder = LabelEncoder()\n",
    "df_clicks['item_id'] = item_encoder.fit_transform(df_clicks.item_id)\n",
    "df_clicks.head()"
   ]
  },
  {
   "cell_type": "code",
   "execution_count": 4,
   "id": "ad9bb3f5",
   "metadata": {},
   "outputs": [
    {
     "data": {
      "text/html": [
       "<div>\n",
       "<style scoped>\n",
       "    .dataframe tbody tr th:only-of-type {\n",
       "        vertical-align: middle;\n",
       "    }\n",
       "\n",
       "    .dataframe tbody tr th {\n",
       "        vertical-align: top;\n",
       "    }\n",
       "\n",
       "    .dataframe thead th {\n",
       "        text-align: right;\n",
       "    }\n",
       "</style>\n",
       "<table border=\"1\" class=\"dataframe\">\n",
       "  <thead>\n",
       "    <tr style=\"text-align: right;\">\n",
       "      <th></th>\n",
       "      <th>session_id</th>\n",
       "      <th>timestamp</th>\n",
       "      <th>item_id</th>\n",
       "      <th>price</th>\n",
       "      <th>category</th>\n",
       "    </tr>\n",
       "  </thead>\n",
       "  <tbody>\n",
       "    <tr>\n",
       "      <th>0</th>\n",
       "      <td>420374</td>\n",
       "      <td>2014-04-06T18:44:58.314Z</td>\n",
       "      <td>214537888</td>\n",
       "      <td>12462</td>\n",
       "      <td>1</td>\n",
       "    </tr>\n",
       "    <tr>\n",
       "      <th>1</th>\n",
       "      <td>420374</td>\n",
       "      <td>2014-04-06T18:44:58.325Z</td>\n",
       "      <td>214537850</td>\n",
       "      <td>10471</td>\n",
       "      <td>1</td>\n",
       "    </tr>\n",
       "  </tbody>\n",
       "</table>\n",
       "</div>"
      ],
      "text/plain": [
       "   session_id                 timestamp    item_id  price  category\n",
       "0      420374  2014-04-06T18:44:58.314Z  214537888  12462         1\n",
       "1      420374  2014-04-06T18:44:58.325Z  214537850  10471         1"
      ]
     },
     "execution_count": 4,
     "metadata": {},
     "output_type": "execute_result"
    }
   ],
   "source": [
    "import pandas as pd\n",
    "df_buys = pd.read_csv('/Users/chang/Documents/dev/git/ml/Graph-Machine-Learning/torch-geometric/data/yoochoose-buys.dat', header=None)\n",
    "df_buys.columns = ['session_id', 'timestamp', 'item_id', 'price', 'category']\n",
    "df_buys.head(2)\n",
    "\n"
   ]
  },
  {
   "cell_type": "code",
   "execution_count": 5,
   "id": "9222bd78",
   "metadata": {},
   "outputs": [
    {
     "data": {
      "text/plain": [
       "session_id    1000000\n",
       "timestamp     3569227\n",
       "item_id         35640\n",
       "category          241\n",
       "dtype: int64"
      ]
     },
     "execution_count": 5,
     "metadata": {},
     "output_type": "execute_result"
    }
   ],
   "source": [
    "# Downsample df_clicks\n",
    "import numpy as np\n",
    "sampled_session_id = np.random.choice(df_clicks.session_id.unique(), 1000000, replace=False)\n",
    "df_clicks = df_clicks.loc[df_clicks.session_id.isin(sampled_session_id)]\n",
    "df_clicks.nunique()\n"
   ]
  },
  {
   "cell_type": "code",
   "execution_count": 156,
   "id": "60dec49e",
   "metadata": {},
   "outputs": [
    {
     "data": {
      "text/html": [
       "<div>\n",
       "<style scoped>\n",
       "    .dataframe tbody tr th:only-of-type {\n",
       "        vertical-align: middle;\n",
       "    }\n",
       "\n",
       "    .dataframe tbody tr th {\n",
       "        vertical-align: top;\n",
       "    }\n",
       "\n",
       "    .dataframe thead th {\n",
       "        text-align: right;\n",
       "    }\n",
       "</style>\n",
       "<table border=\"1\" class=\"dataframe\">\n",
       "  <thead>\n",
       "    <tr style=\"text-align: right;\">\n",
       "      <th></th>\n",
       "      <th>session_id</th>\n",
       "      <th>timestamp</th>\n",
       "      <th>item_id</th>\n",
       "      <th>category</th>\n",
       "      <th>label</th>\n",
       "    </tr>\n",
       "  </thead>\n",
       "  <tbody>\n",
       "    <tr>\n",
       "      <th>85</th>\n",
       "      <td>27</td>\n",
       "      <td>2014-04-07T07:40:12.650Z</td>\n",
       "      <td>41308</td>\n",
       "      <td>0</td>\n",
       "      <td>False</td>\n",
       "    </tr>\n",
       "    <tr>\n",
       "      <th>86</th>\n",
       "      <td>27</td>\n",
       "      <td>2014-04-07T07:41:13.815Z</td>\n",
       "      <td>41303</td>\n",
       "      <td>0</td>\n",
       "      <td>False</td>\n",
       "    </tr>\n",
       "  </tbody>\n",
       "</table>\n",
       "</div>"
      ],
      "text/plain": [
       "    session_id                 timestamp  item_id category  label\n",
       "85          27  2014-04-07T07:40:12.650Z    41308        0  False\n",
       "86          27  2014-04-07T07:41:13.815Z    41303        0  False"
      ]
     },
     "execution_count": 156,
     "metadata": {},
     "output_type": "execute_result"
    }
   ],
   "source": [
    "# label: buy if session in df_click is in df_buy.sessionId\n",
    "df_clicks['label'] = df_clicks.session_id.isin(df_buys.session_id)\n",
    "df_clicks.head(2)"
   ]
  },
  {
   "cell_type": "code",
   "execution_count": 150,
   "id": "24ffdedb",
   "metadata": {},
   "outputs": [
    {
     "data": {
      "text/html": [
       "<div>\n",
       "<style scoped>\n",
       "    .dataframe tbody tr th:only-of-type {\n",
       "        vertical-align: middle;\n",
       "    }\n",
       "\n",
       "    .dataframe tbody tr th {\n",
       "        vertical-align: top;\n",
       "    }\n",
       "\n",
       "    .dataframe thead th {\n",
       "        text-align: right;\n",
       "    }\n",
       "</style>\n",
       "<table border=\"1\" class=\"dataframe\">\n",
       "  <thead>\n",
       "    <tr style=\"text-align: right;\">\n",
       "      <th></th>\n",
       "      <th>session_id</th>\n",
       "      <th>timestamp</th>\n",
       "      <th>item_id</th>\n",
       "      <th>category</th>\n",
       "      <th>label</th>\n",
       "    </tr>\n",
       "  </thead>\n",
       "  <tbody>\n",
       "    <tr>\n",
       "      <th>85</th>\n",
       "      <td>27</td>\n",
       "      <td>2014-04-07T07:40:12.650Z</td>\n",
       "      <td>41308</td>\n",
       "      <td>0</td>\n",
       "      <td>False</td>\n",
       "    </tr>\n",
       "    <tr>\n",
       "      <th>95</th>\n",
       "      <td>26</td>\n",
       "      <td>2014-04-06T16:42:55.741Z</td>\n",
       "      <td>10087</td>\n",
       "      <td>0</td>\n",
       "      <td>False</td>\n",
       "    </tr>\n",
       "    <tr>\n",
       "      <th>144</th>\n",
       "      <td>46</td>\n",
       "      <td>2014-04-03T06:06:58.170Z</td>\n",
       "      <td>28988</td>\n",
       "      <td>0</td>\n",
       "      <td>True</td>\n",
       "    </tr>\n",
       "    <tr>\n",
       "      <th>322</th>\n",
       "      <td>102</td>\n",
       "      <td>2014-04-07T03:14:44.923Z</td>\n",
       "      <td>42079</td>\n",
       "      <td>0</td>\n",
       "      <td>False</td>\n",
       "    </tr>\n",
       "    <tr>\n",
       "      <th>402</th>\n",
       "      <td>122</td>\n",
       "      <td>2014-04-06T20:45:43.933Z</td>\n",
       "      <td>12849</td>\n",
       "      <td>0</td>\n",
       "      <td>False</td>\n",
       "    </tr>\n",
       "    <tr>\n",
       "      <th>428</th>\n",
       "      <td>136</td>\n",
       "      <td>2014-04-01T12:25:23.651Z</td>\n",
       "      <td>45636</td>\n",
       "      <td>0</td>\n",
       "      <td>False</td>\n",
       "    </tr>\n",
       "    <tr>\n",
       "      <th>441</th>\n",
       "      <td>143</td>\n",
       "      <td>2014-04-04T19:30:03.512Z</td>\n",
       "      <td>46552</td>\n",
       "      <td>0</td>\n",
       "      <td>False</td>\n",
       "    </tr>\n",
       "    <tr>\n",
       "      <th>446</th>\n",
       "      <td>129</td>\n",
       "      <td>2014-04-01T08:37:18.399Z</td>\n",
       "      <td>45755</td>\n",
       "      <td>0</td>\n",
       "      <td>False</td>\n",
       "    </tr>\n",
       "    <tr>\n",
       "      <th>512</th>\n",
       "      <td>168</td>\n",
       "      <td>2014-04-03T12:58:36.401Z</td>\n",
       "      <td>44551</td>\n",
       "      <td>0</td>\n",
       "      <td>False</td>\n",
       "    </tr>\n",
       "    <tr>\n",
       "      <th>586</th>\n",
       "      <td>201</td>\n",
       "      <td>2014-04-06T11:52:14.508Z</td>\n",
       "      <td>41304</td>\n",
       "      <td>0</td>\n",
       "      <td>False</td>\n",
       "    </tr>\n",
       "    <tr>\n",
       "      <th>588</th>\n",
       "      <td>203</td>\n",
       "      <td>2014-04-02T16:47:04.826Z</td>\n",
       "      <td>39964</td>\n",
       "      <td>0</td>\n",
       "      <td>False</td>\n",
       "    </tr>\n",
       "    <tr>\n",
       "      <th>610</th>\n",
       "      <td>193</td>\n",
       "      <td>2014-04-02T16:50:53.302Z</td>\n",
       "      <td>41946</td>\n",
       "      <td>0</td>\n",
       "      <td>False</td>\n",
       "    </tr>\n",
       "    <tr>\n",
       "      <th>668</th>\n",
       "      <td>209</td>\n",
       "      <td>2014-04-07T11:05:33.921Z</td>\n",
       "      <td>41305</td>\n",
       "      <td>0</td>\n",
       "      <td>False</td>\n",
       "    </tr>\n",
       "    <tr>\n",
       "      <th>699</th>\n",
       "      <td>231</td>\n",
       "      <td>2014-04-06T11:40:08.108Z</td>\n",
       "      <td>11088</td>\n",
       "      <td>0</td>\n",
       "      <td>False</td>\n",
       "    </tr>\n",
       "    <tr>\n",
       "      <th>708</th>\n",
       "      <td>226</td>\n",
       "      <td>2014-04-04T14:18:47.658Z</td>\n",
       "      <td>39875</td>\n",
       "      <td>0</td>\n",
       "      <td>False</td>\n",
       "    </tr>\n",
       "    <tr>\n",
       "      <th>737</th>\n",
       "      <td>251</td>\n",
       "      <td>2014-04-04T20:19:26.931Z</td>\n",
       "      <td>31093</td>\n",
       "      <td>0</td>\n",
       "      <td>False</td>\n",
       "    </tr>\n",
       "    <tr>\n",
       "      <th>772</th>\n",
       "      <td>278</td>\n",
       "      <td>2014-04-01T20:28:59.485Z</td>\n",
       "      <td>39688</td>\n",
       "      <td>0</td>\n",
       "      <td>False</td>\n",
       "    </tr>\n",
       "    <tr>\n",
       "      <th>794</th>\n",
       "      <td>281</td>\n",
       "      <td>2014-04-03T14:51:05.089Z</td>\n",
       "      <td>39695</td>\n",
       "      <td>0</td>\n",
       "      <td>False</td>\n",
       "    </tr>\n",
       "    <tr>\n",
       "      <th>816</th>\n",
       "      <td>259</td>\n",
       "      <td>2014-04-07T09:16:14.080Z</td>\n",
       "      <td>39378</td>\n",
       "      <td>0</td>\n",
       "      <td>False</td>\n",
       "    </tr>\n",
       "    <tr>\n",
       "      <th>824</th>\n",
       "      <td>257</td>\n",
       "      <td>2014-04-06T14:59:22.715Z</td>\n",
       "      <td>39928</td>\n",
       "      <td>0</td>\n",
       "      <td>False</td>\n",
       "    </tr>\n",
       "    <tr>\n",
       "      <th>877</th>\n",
       "      <td>309</td>\n",
       "      <td>2014-04-06T07:59:23.727Z</td>\n",
       "      <td>41216</td>\n",
       "      <td>0</td>\n",
       "      <td>False</td>\n",
       "    </tr>\n",
       "    <tr>\n",
       "      <th>899</th>\n",
       "      <td>319</td>\n",
       "      <td>2014-04-02T15:26:23.374Z</td>\n",
       "      <td>12744</td>\n",
       "      <td>0</td>\n",
       "      <td>True</td>\n",
       "    </tr>\n",
       "    <tr>\n",
       "      <th>907</th>\n",
       "      <td>289</td>\n",
       "      <td>2014-04-06T15:16:26.819Z</td>\n",
       "      <td>20463</td>\n",
       "      <td>0</td>\n",
       "      <td>False</td>\n",
       "    </tr>\n",
       "    <tr>\n",
       "      <th>917</th>\n",
       "      <td>293</td>\n",
       "      <td>2014-04-05T16:35:12.828Z</td>\n",
       "      <td>41180</td>\n",
       "      <td>0</td>\n",
       "      <td>True</td>\n",
       "    </tr>\n",
       "    <tr>\n",
       "      <th>941</th>\n",
       "      <td>299</td>\n",
       "      <td>2014-04-01T22:58:02.038Z</td>\n",
       "      <td>29023</td>\n",
       "      <td>0</td>\n",
       "      <td>False</td>\n",
       "    </tr>\n",
       "    <tr>\n",
       "      <th>994</th>\n",
       "      <td>324</td>\n",
       "      <td>2014-04-04T16:52:11.520Z</td>\n",
       "      <td>44014</td>\n",
       "      <td>0</td>\n",
       "      <td>True</td>\n",
       "    </tr>\n",
       "  </tbody>\n",
       "</table>\n",
       "</div>"
      ],
      "text/plain": [
       "     session_id                 timestamp  item_id category  label\n",
       "85           27  2014-04-07T07:40:12.650Z    41308        0  False\n",
       "95           26  2014-04-06T16:42:55.741Z    10087        0  False\n",
       "144          46  2014-04-03T06:06:58.170Z    28988        0   True\n",
       "322         102  2014-04-07T03:14:44.923Z    42079        0  False\n",
       "402         122  2014-04-06T20:45:43.933Z    12849        0  False\n",
       "428         136  2014-04-01T12:25:23.651Z    45636        0  False\n",
       "441         143  2014-04-04T19:30:03.512Z    46552        0  False\n",
       "446         129  2014-04-01T08:37:18.399Z    45755        0  False\n",
       "512         168  2014-04-03T12:58:36.401Z    44551        0  False\n",
       "586         201  2014-04-06T11:52:14.508Z    41304        0  False\n",
       "588         203  2014-04-02T16:47:04.826Z    39964        0  False\n",
       "610         193  2014-04-02T16:50:53.302Z    41946        0  False\n",
       "668         209  2014-04-07T11:05:33.921Z    41305        0  False\n",
       "699         231  2014-04-06T11:40:08.108Z    11088        0  False\n",
       "708         226  2014-04-04T14:18:47.658Z    39875        0  False\n",
       "737         251  2014-04-04T20:19:26.931Z    31093        0  False\n",
       "772         278  2014-04-01T20:28:59.485Z    39688        0  False\n",
       "794         281  2014-04-03T14:51:05.089Z    39695        0  False\n",
       "816         259  2014-04-07T09:16:14.080Z    39378        0  False\n",
       "824         257  2014-04-06T14:59:22.715Z    39928        0  False\n",
       "877         309  2014-04-06T07:59:23.727Z    41216        0  False\n",
       "899         319  2014-04-02T15:26:23.374Z    12744        0   True\n",
       "907         289  2014-04-06T15:16:26.819Z    20463        0  False\n",
       "917         293  2014-04-05T16:35:12.828Z    41180        0   True\n",
       "941         299  2014-04-01T22:58:02.038Z    29023        0  False\n",
       "994         324  2014-04-04T16:52:11.520Z    44014        0   True"
      ]
     },
     "execution_count": 150,
     "metadata": {},
     "output_type": "execute_result"
    }
   ],
   "source": [
    "grouped = df_clicks[:100].groupby('session_id')\n",
    "grouped.head(1)\n",
    "    "
   ]
  },
  {
   "cell_type": "code",
   "execution_count": 174,
   "id": "037a5c8d",
   "metadata": {},
   "outputs": [
    {
     "name": "stderr",
     "output_type": "stream",
     "text": [
      "100%|██████████████████| 26/26 [00:00<00:00, 165.91it/s]"
     ]
    },
    {
     "name": "stdout",
     "output_type": "stream",
     "text": [
      "324 |       session_id                 timestamp  item_id category  label\n",
      "994          324  2014-04-04T16:52:11.520Z    44014        0   True\n",
      "995          324  2014-04-04T16:54:27.956Z    11465        0   True\n",
      "996          324  2014-04-04T16:58:00.269Z    45561        0   True\n",
      "997          324  2014-04-04T16:58:45.323Z    44014        0   True\n",
      "998          324  2014-04-04T17:00:01.946Z    43947        0   True\n",
      "999          324  2014-04-04T17:00:27.960Z    43631        0   True\n",
      "1000         324  2014-04-04T17:02:13.997Z    43630        0   True\n",
      "1001         324  2014-04-04T17:03:23.410Z    43204        0   True\n",
      "1002         324  2014-04-04T17:05:00.265Z    11469        0   True\n",
      "1003         324  2014-04-04T17:05:45.023Z    43631        0   True\n",
      "1004         324  2014-04-04T17:07:37.369Z    43631        0   True\n",
      "1005         324  2014-04-04T17:12:25.970Z     2443        0   True\n"
     ]
    },
    {
     "name": "stderr",
     "output_type": "stream",
     "text": [
      "\n"
     ]
    }
   ],
   "source": [
    "for session_id, group_df in tqdm(grouped):\n",
    "    if group_df.shape[0] > 10:\n",
    "        print(f'{session_id} | {group_df}')"
   ]
  },
  {
   "cell_type": "markdown",
   "id": "907def7c",
   "metadata": {},
   "source": [
    "### Step2.2 : Construct Torch Dataset\n",
    "```\n",
    "we treat each item in a session as a node, and therefore all items in the same session form a graph. To build the dataset, we group the preprocessed data by session_id and iterate over these groups. In each iteration, the item_id in each group are categorically encoded again since for each graph, the node index should count from 0. Thus, we have the following:\n",
    "```"
   ]
  },
  {
   "cell_type": "code",
   "execution_count": 173,
   "id": "acf27562",
   "metadata": {},
   "outputs": [
    {
     "data": {
      "text/html": [
       "<div>\n",
       "<style scoped>\n",
       "    .dataframe tbody tr th:only-of-type {\n",
       "        vertical-align: middle;\n",
       "    }\n",
       "\n",
       "    .dataframe tbody tr th {\n",
       "        vertical-align: top;\n",
       "    }\n",
       "\n",
       "    .dataframe thead th {\n",
       "        text-align: right;\n",
       "    }\n",
       "</style>\n",
       "<table border=\"1\" class=\"dataframe\">\n",
       "  <thead>\n",
       "    <tr style=\"text-align: right;\">\n",
       "      <th></th>\n",
       "      <th>session_id</th>\n",
       "      <th>timestamp</th>\n",
       "      <th>item_id</th>\n",
       "      <th>category</th>\n",
       "      <th>label</th>\n",
       "    </tr>\n",
       "  </thead>\n",
       "  <tbody>\n",
       "    <tr>\n",
       "      <th>85</th>\n",
       "      <td>27</td>\n",
       "      <td>2014-04-07T07:40:12.650Z</td>\n",
       "      <td>41308</td>\n",
       "      <td>0</td>\n",
       "      <td>False</td>\n",
       "    </tr>\n",
       "    <tr>\n",
       "      <th>86</th>\n",
       "      <td>27</td>\n",
       "      <td>2014-04-07T07:41:13.815Z</td>\n",
       "      <td>41303</td>\n",
       "      <td>0</td>\n",
       "      <td>False</td>\n",
       "    </tr>\n",
       "  </tbody>\n",
       "</table>\n",
       "</div>"
      ],
      "text/plain": [
       "    session_id                 timestamp  item_id category  label\n",
       "85          27  2014-04-07T07:40:12.650Z    41308        0  False\n",
       "86          27  2014-04-07T07:41:13.815Z    41303        0  False"
      ]
     },
     "execution_count": 173,
     "metadata": {},
     "output_type": "execute_result"
    }
   ],
   "source": [
    "df_clicks.head(2)"
   ]
  },
  {
   "cell_type": "code",
   "execution_count": 157,
   "id": "9cb42d42",
   "metadata": {},
   "outputs": [],
   "source": [
    "import torch\n",
    "from torch_geometric.data import InMemoryDataset, Data\n",
    "from tqdm import tqdm\n",
    "\n",
    "# TWC: Look here!!\n",
    "df = df_clicks\n",
    "\n",
    "class YooChooseBinaryDataset(InMemoryDataset):\n",
    "    def __init__(self, root, transform=None, pre_transform=None):\n",
    "        super(YooChooseBinaryDataset, self).__init__(root, transform, pre_transform)\n",
    "        self.data, self.slices = torch.load(self.processed_paths[0])\n",
    "\n",
    "    @property\n",
    "    def raw_file_names(self):\n",
    "        return []\n",
    "    @property\n",
    "    def processed_file_names(self):\n",
    "        return ['yoochoose_click_binary_1M_sess.dataset']\n",
    "        #return ['/Users/chang/Documents/dev/git/ml/Graph-Machine-Learning/torch-geometric/data/input/yoochoose_click_binary_1M_sess.dataset']\n",
    "\n",
    "    def download(self):\n",
    "        pass\n",
    "    \n",
    "    def process(self):\n",
    "        \n",
    "        data_list = []\n",
    "\n",
    "        # process by session_id\n",
    "        grouped = df.groupby('session_id')\n",
    "        for session_id, group in tqdm(grouped): #group is a DF\n",
    "            if group.shape[0] < 5:\n",
    "                continue\n",
    "                #print(f'{session_id} | {group_df}')\n",
    "                \n",
    "            sess_item_id = LabelEncoder().fit_transform(group.item_id)\n",
    "            group = group.reset_index(drop=True)\n",
    "            group['sess_item_id'] = sess_item_id\n",
    "\n",
    "            node_features = group.loc[group.session_id==session_id,['sess_item_id','item_id']].sort_values('sess_item_id').item_id.drop_duplicates().values\n",
    "\n",
    "            node_features = torch.LongTensor(node_features).unsqueeze(1)\n",
    "            target_nodes = group.sess_item_id.values[1:]\n",
    "            source_nodes = group.sess_item_id.values[:-1]\n",
    "\n",
    "            edge_index = torch.tensor([source_nodes, target_nodes], dtype=torch.long)\n",
    "            x = node_features\n",
    "            \n",
    "            y_float = 1 if group.label.values[0] else 0\n",
    "            y = torch.FloatTensor([y_float])\n",
    "            #y = torch.FloatTensor([group.label.values[0]])\n",
    "              \n",
    "            data = Data(x=x, edge_index=edge_index, y=y)\n",
    "            data_list.append(data)\n",
    "        \n",
    "        data, slices = self.collate(data_list)\n",
    "        torch.save((data, slices), self.processed_paths[0])\n",
    "        "
   ]
  },
  {
   "cell_type": "code",
   "execution_count": 159,
   "id": "cd077125",
   "metadata": {},
   "outputs": [
    {
     "name": "stdout",
     "output_type": "stream",
     "text": [
      "Processing...\n"
     ]
    },
    {
     "name": "stderr",
     "output_type": "stream",
     "text": [
      "100%|███████| 1000000/1000000 [05:47<00:00, 2876.24it/s]\n"
     ]
    },
    {
     "ename": "PicklingError",
     "evalue": "Can't pickle <class 'torch_geometric.data.data.Data'>: it's not the same object as torch_geometric.data.data.Data",
     "output_type": "error",
     "traceback": [
      "\u001b[0;31m---------------------------------------------------------------------------\u001b[0m",
      "\u001b[0;31mPicklingError\u001b[0m                             Traceback (most recent call last)",
      "\u001b[0;32m/var/folders/lm/cz7x2xr14rjcbgdmgkg156vr0000gn/T/ipykernel_84263/4084864150.py\u001b[0m in \u001b[0;36m<module>\u001b[0;34m\u001b[0m\n\u001b[0;32m----> 1\u001b[0;31m \u001b[0mdataset\u001b[0m \u001b[0;34m=\u001b[0m \u001b[0mYooChooseBinaryDataset\u001b[0m\u001b[0;34m(\u001b[0m\u001b[0mroot\u001b[0m\u001b[0;34m=\u001b[0m\u001b[0;34m'/Users/chang/Documents/dev/git/ml/Graph-Machine-Learning/torch-geometric/data/input2'\u001b[0m\u001b[0;34m)\u001b[0m\u001b[0;34m\u001b[0m\u001b[0;34m\u001b[0m\u001b[0m\n\u001b[0m\u001b[1;32m      2\u001b[0m \u001b[0;32mimport\u001b[0m \u001b[0mwarnings\u001b[0m\u001b[0;34m\u001b[0m\u001b[0;34m\u001b[0m\u001b[0m\n\u001b[1;32m      3\u001b[0m \u001b[0mwarnings\u001b[0m\u001b[0;34m.\u001b[0m\u001b[0mfilterwarnings\u001b[0m\u001b[0;34m(\u001b[0m\u001b[0;34m'ignore'\u001b[0m\u001b[0;34m)\u001b[0m\u001b[0;34m\u001b[0m\u001b[0;34m\u001b[0m\u001b[0m\n",
      "\u001b[0;32m/var/folders/lm/cz7x2xr14rjcbgdmgkg156vr0000gn/T/ipykernel_84263/1613517253.py\u001b[0m in \u001b[0;36m__init__\u001b[0;34m(self, root, transform, pre_transform)\u001b[0m\n\u001b[1;32m      8\u001b[0m \u001b[0;32mclass\u001b[0m \u001b[0mYooChooseBinaryDataset\u001b[0m\u001b[0;34m(\u001b[0m\u001b[0mInMemoryDataset\u001b[0m\u001b[0;34m)\u001b[0m\u001b[0;34m:\u001b[0m\u001b[0;34m\u001b[0m\u001b[0;34m\u001b[0m\u001b[0m\n\u001b[1;32m      9\u001b[0m     \u001b[0;32mdef\u001b[0m \u001b[0m__init__\u001b[0m\u001b[0;34m(\u001b[0m\u001b[0mself\u001b[0m\u001b[0;34m,\u001b[0m \u001b[0mroot\u001b[0m\u001b[0;34m,\u001b[0m \u001b[0mtransform\u001b[0m\u001b[0;34m=\u001b[0m\u001b[0;32mNone\u001b[0m\u001b[0;34m,\u001b[0m \u001b[0mpre_transform\u001b[0m\u001b[0;34m=\u001b[0m\u001b[0;32mNone\u001b[0m\u001b[0;34m)\u001b[0m\u001b[0;34m:\u001b[0m\u001b[0;34m\u001b[0m\u001b[0;34m\u001b[0m\u001b[0m\n\u001b[0;32m---> 10\u001b[0;31m         \u001b[0msuper\u001b[0m\u001b[0;34m(\u001b[0m\u001b[0mYooChooseBinaryDataset\u001b[0m\u001b[0;34m,\u001b[0m \u001b[0mself\u001b[0m\u001b[0;34m)\u001b[0m\u001b[0;34m.\u001b[0m\u001b[0m__init__\u001b[0m\u001b[0;34m(\u001b[0m\u001b[0mroot\u001b[0m\u001b[0;34m,\u001b[0m \u001b[0mtransform\u001b[0m\u001b[0;34m,\u001b[0m \u001b[0mpre_transform\u001b[0m\u001b[0;34m)\u001b[0m\u001b[0;34m\u001b[0m\u001b[0;34m\u001b[0m\u001b[0m\n\u001b[0m\u001b[1;32m     11\u001b[0m         \u001b[0mself\u001b[0m\u001b[0;34m.\u001b[0m\u001b[0mdata\u001b[0m\u001b[0;34m,\u001b[0m \u001b[0mself\u001b[0m\u001b[0;34m.\u001b[0m\u001b[0mslices\u001b[0m \u001b[0;34m=\u001b[0m \u001b[0mtorch\u001b[0m\u001b[0;34m.\u001b[0m\u001b[0mload\u001b[0m\u001b[0;34m(\u001b[0m\u001b[0mself\u001b[0m\u001b[0;34m.\u001b[0m\u001b[0mprocessed_paths\u001b[0m\u001b[0;34m[\u001b[0m\u001b[0;36m0\u001b[0m\u001b[0;34m]\u001b[0m\u001b[0;34m)\u001b[0m\u001b[0;34m\u001b[0m\u001b[0;34m\u001b[0m\u001b[0m\n\u001b[1;32m     12\u001b[0m \u001b[0;34m\u001b[0m\u001b[0m\n",
      "\u001b[0;32m~/Documents/dev/git/ml/Graph-Machine-Learning/.env/lib/python3.8/site-packages/torch_geometric/data/in_memory_dataset.py\u001b[0m in \u001b[0;36m__init__\u001b[0;34m(self, root, transform, pre_transform, pre_filter)\u001b[0m\n\u001b[1;32m     58\u001b[0m                  \u001b[0mpre_transform\u001b[0m\u001b[0;34m:\u001b[0m \u001b[0mOptional\u001b[0m\u001b[0;34m[\u001b[0m\u001b[0mCallable\u001b[0m\u001b[0;34m]\u001b[0m \u001b[0;34m=\u001b[0m \u001b[0;32mNone\u001b[0m\u001b[0;34m,\u001b[0m\u001b[0;34m\u001b[0m\u001b[0;34m\u001b[0m\u001b[0m\n\u001b[1;32m     59\u001b[0m                  pre_filter: Optional[Callable] = None):\n\u001b[0;32m---> 60\u001b[0;31m         \u001b[0msuper\u001b[0m\u001b[0;34m(\u001b[0m\u001b[0;34m)\u001b[0m\u001b[0;34m.\u001b[0m\u001b[0m__init__\u001b[0m\u001b[0;34m(\u001b[0m\u001b[0mroot\u001b[0m\u001b[0;34m,\u001b[0m \u001b[0mtransform\u001b[0m\u001b[0;34m,\u001b[0m \u001b[0mpre_transform\u001b[0m\u001b[0;34m,\u001b[0m \u001b[0mpre_filter\u001b[0m\u001b[0;34m)\u001b[0m\u001b[0;34m\u001b[0m\u001b[0;34m\u001b[0m\u001b[0m\n\u001b[0m\u001b[1;32m     61\u001b[0m         \u001b[0mself\u001b[0m\u001b[0;34m.\u001b[0m\u001b[0mdata\u001b[0m \u001b[0;34m=\u001b[0m \u001b[0;32mNone\u001b[0m\u001b[0;34m\u001b[0m\u001b[0;34m\u001b[0m\u001b[0m\n\u001b[1;32m     62\u001b[0m         \u001b[0mself\u001b[0m\u001b[0;34m.\u001b[0m\u001b[0mslices\u001b[0m \u001b[0;34m=\u001b[0m \u001b[0;32mNone\u001b[0m\u001b[0;34m\u001b[0m\u001b[0;34m\u001b[0m\u001b[0m\n",
      "\u001b[0;32m~/Documents/dev/git/ml/Graph-Machine-Learning/.env/lib/python3.8/site-packages/torch_geometric/data/dataset.py\u001b[0m in \u001b[0;36m__init__\u001b[0;34m(self, root, transform, pre_transform, pre_filter)\u001b[0m\n\u001b[1;32m     84\u001b[0m \u001b[0;34m\u001b[0m\u001b[0m\n\u001b[1;32m     85\u001b[0m         \u001b[0;32mif\u001b[0m \u001b[0;34m'process'\u001b[0m \u001b[0;32min\u001b[0m \u001b[0mself\u001b[0m\u001b[0;34m.\u001b[0m\u001b[0m__class__\u001b[0m\u001b[0;34m.\u001b[0m\u001b[0m__dict__\u001b[0m\u001b[0;34m.\u001b[0m\u001b[0mkeys\u001b[0m\u001b[0;34m(\u001b[0m\u001b[0;34m)\u001b[0m\u001b[0;34m:\u001b[0m\u001b[0;34m\u001b[0m\u001b[0;34m\u001b[0m\u001b[0m\n\u001b[0;32m---> 86\u001b[0;31m             \u001b[0mself\u001b[0m\u001b[0;34m.\u001b[0m\u001b[0m_process\u001b[0m\u001b[0;34m(\u001b[0m\u001b[0;34m)\u001b[0m\u001b[0;34m\u001b[0m\u001b[0;34m\u001b[0m\u001b[0m\n\u001b[0m\u001b[1;32m     87\u001b[0m \u001b[0;34m\u001b[0m\u001b[0m\n\u001b[1;32m     88\u001b[0m     \u001b[0;32mdef\u001b[0m \u001b[0mindices\u001b[0m\u001b[0;34m(\u001b[0m\u001b[0mself\u001b[0m\u001b[0;34m)\u001b[0m \u001b[0;34m->\u001b[0m \u001b[0mSequence\u001b[0m\u001b[0;34m:\u001b[0m\u001b[0;34m\u001b[0m\u001b[0;34m\u001b[0m\u001b[0m\n",
      "\u001b[0;32m~/Documents/dev/git/ml/Graph-Machine-Learning/.env/lib/python3.8/site-packages/torch_geometric/data/dataset.py\u001b[0m in \u001b[0;36m_process\u001b[0;34m(self)\u001b[0m\n\u001b[1;32m    163\u001b[0m \u001b[0;34m\u001b[0m\u001b[0m\n\u001b[1;32m    164\u001b[0m         \u001b[0mmakedirs\u001b[0m\u001b[0;34m(\u001b[0m\u001b[0mself\u001b[0m\u001b[0;34m.\u001b[0m\u001b[0mprocessed_dir\u001b[0m\u001b[0;34m)\u001b[0m\u001b[0;34m\u001b[0m\u001b[0;34m\u001b[0m\u001b[0m\n\u001b[0;32m--> 165\u001b[0;31m         \u001b[0mself\u001b[0m\u001b[0;34m.\u001b[0m\u001b[0mprocess\u001b[0m\u001b[0;34m(\u001b[0m\u001b[0;34m)\u001b[0m\u001b[0;34m\u001b[0m\u001b[0;34m\u001b[0m\u001b[0m\n\u001b[0m\u001b[1;32m    166\u001b[0m \u001b[0;34m\u001b[0m\u001b[0m\n\u001b[1;32m    167\u001b[0m         \u001b[0mpath\u001b[0m \u001b[0;34m=\u001b[0m \u001b[0mosp\u001b[0m\u001b[0;34m.\u001b[0m\u001b[0mjoin\u001b[0m\u001b[0;34m(\u001b[0m\u001b[0mself\u001b[0m\u001b[0;34m.\u001b[0m\u001b[0mprocessed_dir\u001b[0m\u001b[0;34m,\u001b[0m \u001b[0;34m'pre_transform.pt'\u001b[0m\u001b[0;34m)\u001b[0m\u001b[0;34m\u001b[0m\u001b[0;34m\u001b[0m\u001b[0m\n",
      "\u001b[0;32m/var/folders/lm/cz7x2xr14rjcbgdmgkg156vr0000gn/T/ipykernel_84263/1613517253.py\u001b[0m in \u001b[0;36mprocess\u001b[0;34m(self)\u001b[0m\n\u001b[1;32m     53\u001b[0m \u001b[0;34m\u001b[0m\u001b[0m\n\u001b[1;32m     54\u001b[0m         \u001b[0mdata\u001b[0m\u001b[0;34m,\u001b[0m \u001b[0mslices\u001b[0m \u001b[0;34m=\u001b[0m \u001b[0mself\u001b[0m\u001b[0;34m.\u001b[0m\u001b[0mcollate\u001b[0m\u001b[0;34m(\u001b[0m\u001b[0mdata_list\u001b[0m\u001b[0;34m)\u001b[0m\u001b[0;34m\u001b[0m\u001b[0;34m\u001b[0m\u001b[0m\n\u001b[0;32m---> 55\u001b[0;31m         \u001b[0mtorch\u001b[0m\u001b[0;34m.\u001b[0m\u001b[0msave\u001b[0m\u001b[0;34m(\u001b[0m\u001b[0;34m(\u001b[0m\u001b[0mdata\u001b[0m\u001b[0;34m,\u001b[0m \u001b[0mslices\u001b[0m\u001b[0;34m)\u001b[0m\u001b[0;34m,\u001b[0m \u001b[0mself\u001b[0m\u001b[0;34m.\u001b[0m\u001b[0mprocessed_paths\u001b[0m\u001b[0;34m[\u001b[0m\u001b[0;36m0\u001b[0m\u001b[0;34m]\u001b[0m\u001b[0;34m)\u001b[0m\u001b[0;34m\u001b[0m\u001b[0;34m\u001b[0m\u001b[0m\n\u001b[0m\u001b[1;32m     56\u001b[0m \u001b[0;34m\u001b[0m\u001b[0m\n",
      "\u001b[0;32m~/Documents/dev/git/ml/Graph-Machine-Learning/.env/lib/python3.8/site-packages/torch/serialization.py\u001b[0m in \u001b[0;36msave\u001b[0;34m(obj, f, pickle_module, pickle_protocol, _use_new_zipfile_serialization)\u001b[0m\n\u001b[1;32m    377\u001b[0m         \u001b[0;32mif\u001b[0m \u001b[0m_use_new_zipfile_serialization\u001b[0m\u001b[0;34m:\u001b[0m\u001b[0;34m\u001b[0m\u001b[0;34m\u001b[0m\u001b[0m\n\u001b[1;32m    378\u001b[0m             \u001b[0;32mwith\u001b[0m \u001b[0m_open_zipfile_writer\u001b[0m\u001b[0;34m(\u001b[0m\u001b[0mopened_file\u001b[0m\u001b[0;34m)\u001b[0m \u001b[0;32mas\u001b[0m \u001b[0mopened_zipfile\u001b[0m\u001b[0;34m:\u001b[0m\u001b[0;34m\u001b[0m\u001b[0;34m\u001b[0m\u001b[0m\n\u001b[0;32m--> 379\u001b[0;31m                 \u001b[0m_save\u001b[0m\u001b[0;34m(\u001b[0m\u001b[0mobj\u001b[0m\u001b[0;34m,\u001b[0m \u001b[0mopened_zipfile\u001b[0m\u001b[0;34m,\u001b[0m \u001b[0mpickle_module\u001b[0m\u001b[0;34m,\u001b[0m \u001b[0mpickle_protocol\u001b[0m\u001b[0;34m)\u001b[0m\u001b[0;34m\u001b[0m\u001b[0;34m\u001b[0m\u001b[0m\n\u001b[0m\u001b[1;32m    380\u001b[0m                 \u001b[0;32mreturn\u001b[0m\u001b[0;34m\u001b[0m\u001b[0;34m\u001b[0m\u001b[0m\n\u001b[1;32m    381\u001b[0m         \u001b[0m_legacy_save\u001b[0m\u001b[0;34m(\u001b[0m\u001b[0mobj\u001b[0m\u001b[0;34m,\u001b[0m \u001b[0mopened_file\u001b[0m\u001b[0;34m,\u001b[0m \u001b[0mpickle_module\u001b[0m\u001b[0;34m,\u001b[0m \u001b[0mpickle_protocol\u001b[0m\u001b[0;34m)\u001b[0m\u001b[0;34m\u001b[0m\u001b[0;34m\u001b[0m\u001b[0m\n",
      "\u001b[0;32m~/Documents/dev/git/ml/Graph-Machine-Learning/.env/lib/python3.8/site-packages/torch/serialization.py\u001b[0m in \u001b[0;36m_save\u001b[0;34m(obj, zip_file, pickle_module, pickle_protocol)\u001b[0m\n\u001b[1;32m    482\u001b[0m     \u001b[0mpickler\u001b[0m \u001b[0;34m=\u001b[0m \u001b[0mpickle_module\u001b[0m\u001b[0;34m.\u001b[0m\u001b[0mPickler\u001b[0m\u001b[0;34m(\u001b[0m\u001b[0mdata_buf\u001b[0m\u001b[0;34m,\u001b[0m \u001b[0mprotocol\u001b[0m\u001b[0;34m=\u001b[0m\u001b[0mpickle_protocol\u001b[0m\u001b[0;34m)\u001b[0m\u001b[0;34m\u001b[0m\u001b[0;34m\u001b[0m\u001b[0m\n\u001b[1;32m    483\u001b[0m     \u001b[0mpickler\u001b[0m\u001b[0;34m.\u001b[0m\u001b[0mpersistent_id\u001b[0m \u001b[0;34m=\u001b[0m \u001b[0mpersistent_id\u001b[0m\u001b[0;34m\u001b[0m\u001b[0;34m\u001b[0m\u001b[0m\n\u001b[0;32m--> 484\u001b[0;31m     \u001b[0mpickler\u001b[0m\u001b[0;34m.\u001b[0m\u001b[0mdump\u001b[0m\u001b[0;34m(\u001b[0m\u001b[0mobj\u001b[0m\u001b[0;34m)\u001b[0m\u001b[0;34m\u001b[0m\u001b[0;34m\u001b[0m\u001b[0m\n\u001b[0m\u001b[1;32m    485\u001b[0m     \u001b[0mdata_value\u001b[0m \u001b[0;34m=\u001b[0m \u001b[0mdata_buf\u001b[0m\u001b[0;34m.\u001b[0m\u001b[0mgetvalue\u001b[0m\u001b[0;34m(\u001b[0m\u001b[0;34m)\u001b[0m\u001b[0;34m\u001b[0m\u001b[0;34m\u001b[0m\u001b[0m\n\u001b[1;32m    486\u001b[0m     \u001b[0mzip_file\u001b[0m\u001b[0;34m.\u001b[0m\u001b[0mwrite_record\u001b[0m\u001b[0;34m(\u001b[0m\u001b[0;34m'data.pkl'\u001b[0m\u001b[0;34m,\u001b[0m \u001b[0mdata_value\u001b[0m\u001b[0;34m,\u001b[0m \u001b[0mlen\u001b[0m\u001b[0;34m(\u001b[0m\u001b[0mdata_value\u001b[0m\u001b[0;34m)\u001b[0m\u001b[0;34m)\u001b[0m\u001b[0;34m\u001b[0m\u001b[0;34m\u001b[0m\u001b[0m\n",
      "\u001b[0;31mPicklingError\u001b[0m: Can't pickle <class 'torch_geometric.data.data.Data'>: it's not the same object as torch_geometric.data.data.Data"
     ]
    }
   ],
   "source": [
    "dataset = YooChooseBinaryDataset(root='/Users/chang/Documents/dev/git/ml/Graph-Machine-Learning/torch-geometric/data/input2')\n",
    "import warnings\n",
    "warnings.filterwarnings('ignore')"
   ]
  },
  {
   "cell_type": "code",
   "execution_count": 160,
   "id": "c68af418",
   "metadata": {},
   "outputs": [
    {
     "data": {
      "text/plain": [
       "(800000, 100000, 100000)"
      ]
     },
     "execution_count": 160,
     "metadata": {},
     "output_type": "execute_result"
    }
   ],
   "source": [
    "dataset = dataset.shuffle()\n",
    "train_dataset = dataset[:800000]\n",
    "val_dataset = dataset[800000:900000]\n",
    "test_dataset = dataset[900000:]\n",
    "len(train_dataset), len(val_dataset), len(test_dataset)"
   ]
  },
  {
   "cell_type": "markdown",
   "id": "38e8e3d8",
   "metadata": {},
   "source": [
    "### Look at datast"
   ]
  },
  {
   "cell_type": "code",
   "execution_count": 175,
   "id": "e198e8ee",
   "metadata": {},
   "outputs": [
    {
     "name": "stdout",
     "output_type": "stream",
     "text": [
      "Dataset Attributes:\n",
      "    type=<class '__main__.YooChooseBinaryDataset'>\n",
      "    size=1000000\n",
      "    type(train_dataset[0])=<class 'torch_geometric.data.data.Data'>\n",
      "\n",
      "    #features=1\n",
      "    #edge_features=0\n",
      "    #node_features=1\n",
      "    #classes=2\n",
      "\n"
     ]
    }
   ],
   "source": [
    "print(f'Dataset Attributes:\\n\\\n",
    "    type={type(train_dataset)}\\n\\\n",
    "    size={train_dataset.len()}\\n\\\n",
    "    type(train_dataset[0])={type(train_dataset[0])}\\n\\n\\\n",
    "    #features={train_dataset.num_features}\\n\\\n",
    "    #edge_features={train_dataset.num_edge_features}\\n\\\n",
    "    #node_features={train_dataset.num_node_features}\\n\\\n",
    "    #classes={train_dataset.num_classes}\\n')"
   ]
  },
  {
   "cell_type": "code",
   "execution_count": 166,
   "id": "aab8a12f",
   "metadata": {},
   "outputs": [
    {
     "name": "stdout",
     "output_type": "stream",
     "text": [
      "Number of nodes: 17\n",
      "Number of edges: 27\n",
      "Average node degree: 1.59\n",
      "Contains isolated nodes: False\n",
      "Contains self-loops: True\n",
      "Is undirected: False\n"
     ]
    },
    {
     "data": {
      "image/png": "[encoded data removed]",
      "text/plain": [
       "<Figure size 432x288 with 1 Axes>"
      ]
     },
     "metadata": {},
     "output_type": "display_data"
    }
   ],
   "source": [
    "# sample one session\n",
    "def sample_one_graph(dataset):\n",
    "    import torch_geometric\n",
    "    import random\n",
    "    num_nodes = 0\n",
    "    one_graph: torch_geometric.data.data.Data = None\n",
    "    while num_nodes < 10:\n",
    "        graph_rand_num = random.randint(0, dataset.len()//2)\n",
    "        #print(f'graph_rand_num={graph_rand_num}')\n",
    "        one_graph: torch_geometric.data.data.Data = train_dataset[graph_rand_num]\n",
    "        num_nodes = one_graph.num_nodes\n",
    "    \n",
    "    print(f'Number of nodes: {one_graph.num_nodes}')\n",
    "    print(f'Number of edges: {one_graph.num_edges}')\n",
    "    print(f'Average node degree: {one_graph.num_edges / one_graph.num_nodes:.2f}')\n",
    "    #print(f'Number of training nodes: {one_graph.train_mask.sum()}')\n",
    "    #print(f'Training node label rate: {int(one_graph.train_mask.sum()) / one_graph.num_nodes:.2f}')\n",
    "    print(f'Contains isolated nodes: {one_graph.contains_isolated_nodes()}')\n",
    "    print(f'Contains self-loops: {one_graph.contains_self_loops()}')\n",
    "    print(f'Is undirected: {one_graph.is_undirected()}')\n",
    "    from torch_geometric.utils import to_networkx\n",
    "\n",
    "    G = to_networkx(one_graph, to_undirected=True)\n",
    "    type(G)\n",
    "\n",
    "    pos = nx.spring_layout(G) # k regulates the distance between nodes\n",
    "    nx.draw(G, with_labels=True, node_color='skyblue', node_size=1500, edge_cmap=plt.cm.Blues, pos = pos)\n",
    "\n",
    "sample_one_graph(train_dataset)"
   ]
  },
  {
   "cell_type": "code",
   "execution_count": null,
   "id": "fda734b3",
   "metadata": {},
   "outputs": [],
   "source": []
  },
  {
   "cell_type": "markdown",
   "id": "8ac49f7b",
   "metadata": {},
   "source": [
    "#### Define loader"
   ]
  },
  {
   "cell_type": "code",
   "execution_count": 17,
   "id": "21475f52",
   "metadata": {},
   "outputs": [],
   "source": [
    "from torch_geometric.data import DataLoader\n",
    "batch_size= 1024\n",
    "train_loader = DataLoader(train_dataset, batch_size=batch_size)\n",
    "val_loader = DataLoader(val_dataset, batch_size=batch_size)\n",
    "test_loader = DataLoader(test_dataset, batch_size=batch_size)"
   ]
  },
  {
   "cell_type": "code",
   "execution_count": 167,
   "id": "74c29962",
   "metadata": {},
   "outputs": [
    {
     "data": {
      "text/plain": [
       "52739"
      ]
     },
     "execution_count": 167,
     "metadata": {},
     "output_type": "execute_result"
    }
   ],
   "source": [
    "num_items = df.item_id.max() +1 \n",
    "num_items"
   ]
  },
  {
   "cell_type": "markdown",
   "id": "3babfa30",
   "metadata": {},
   "source": [
    "### Step2.3: Build Graph Neural Network"
   ]
  },
  {
   "cell_type": "markdown",
   "id": "929ea135",
   "metadata": {},
   "source": [
    "#### Define Sage Computation Modules"
   ]
  },
  {
   "cell_type": "code",
   "execution_count": 19,
   "id": "2291731e",
   "metadata": {},
   "outputs": [],
   "source": [
    "import torch\n",
    "from torch.nn import Sequential as Seq, Linear, ReLU\n",
    "from torch_geometric.nn import MessagePassing\n",
    "from torch_geometric.utils import remove_self_loops, add_self_loops\n",
    "class SAGEConv(MessagePassing):\n",
    "    def __init__(self, in_channels, out_channels):\n",
    "        super(SAGEConv, self).__init__(aggr='max') #  \"Max\" aggregation.\n",
    "        self.lin = torch.nn.Linear(in_channels, out_channels)\n",
    "        self.act = torch.nn.ReLU()\n",
    "        self.update_lin = torch.nn.Linear(in_channels + out_channels, in_channels, bias=False)\n",
    "        self.update_act = torch.nn.ReLU()\n",
    "        \n",
    "    def forward(self, x, edge_index):\n",
    "        # x has shape [N, in_channels]\n",
    "        # edge_index has shape [2, E]\n",
    "        \n",
    "        \n",
    "        edge_index, _ = remove_self_loops(edge_index)\n",
    "        edge_index, _ = add_self_loops(edge_index, num_nodes=x.size(0))\n",
    "        \n",
    "        \n",
    "        return self.propagate(edge_index, size=(x.size(0), x.size(0)), x=x)\n",
    "\n",
    "    def message(self, x_j):\n",
    "        # x_j has shape [E, in_channels]\n",
    "\n",
    "        x_j = self.lin(x_j)\n",
    "        x_j = self.act(x_j)\n",
    "        \n",
    "        return x_j\n",
    "\n",
    "    def update(self, aggr_out, x):\n",
    "        # aggr_out has shape [N, out_channels]\n",
    "\n",
    "\n",
    "        new_embedding = torch.cat([aggr_out, x], dim=1)\n",
    "        \n",
    "        new_embedding = self.update_lin(new_embedding)\n",
    "        new_embedding = self.update_act(new_embedding)\n",
    "        \n",
    "        return new_embedding\n",
    "    "
   ]
  },
  {
   "cell_type": "markdown",
   "id": "fa17078f",
   "metadata": {},
   "source": [
    "#### Define Neural Network"
   ]
  },
  {
   "cell_type": "code",
   "execution_count": 176,
   "id": "54624a8e",
   "metadata": {},
   "outputs": [],
   "source": [
    "embed_dim = 128\n",
    "from torch_geometric.nn import TopKPooling\n",
    "from torch_geometric.nn import global_mean_pool as gap, global_max_pool as gmp\n",
    "import torch.nn.functional as F\n",
    "class Net(torch.nn.Module):\n",
    "    def __init__(self):\n",
    "        super(Net, self).__init__()\n",
    "\n",
    "        self.conv1 = SAGEConv(embed_dim, 128)\n",
    "        self.pool1 = TopKPooling(128, ratio=0.8)\n",
    "        self.conv2 = SAGEConv(128, 128)\n",
    "        self.pool2 = TopKPooling(128, ratio=0.8)\n",
    "        self.conv3 = SAGEConv(128, 128)\n",
    "        self.pool3 = TopKPooling(128, ratio=0.8)\n",
    "        self.item_embedding = torch.nn.Embedding(num_embeddings=df.item_id.max() +1, embedding_dim=embed_dim)\n",
    "        self.lin1 = torch.nn.Linear(256, 128)\n",
    "        self.lin2 = torch.nn.Linear(128, 64)\n",
    "        self.lin3 = torch.nn.Linear(64, 1)\n",
    "        self.bn1 = torch.nn.BatchNorm1d(128)\n",
    "        self.bn2 = torch.nn.BatchNorm1d(64)\n",
    "        self.act1 = torch.nn.ReLU()\n",
    "        self.act2 = torch.nn.ReLU()        \n",
    "  \n",
    "    def forward(self, data):\n",
    "        x, edge_index, batch = data.x, data.edge_index, data.batch\n",
    "        x = self.item_embedding(x)\n",
    "        x = x.squeeze(1)        \n",
    "\n",
    "        x = F.relu(self.conv1(x, edge_index))\n",
    "        \n",
    "        # https://pytorch-geometric.readthedocs.io/en/latest/_modules/torch_geometric/nn/pool/topk_pool.html\n",
    "        # x, edge_index, edge_attr, batch, perm, score[perm]\n",
    "        x, edge_index, _, batch, _, score = self.pool1(x, edge_index, None, batch)\n",
    "        x1 = torch.cat([gmp(x, batch), gap(x, batch)], dim=1)\n",
    "\n",
    "        x = F.relu(self.conv2(x, edge_index))\n",
    "     \n",
    "        x, edge_index, _, batch, _, score = self.pool2(x, edge_index, None, batch)\n",
    "        x2 = torch.cat([gmp(x, batch), gap(x, batch)], dim=1)\n",
    "\n",
    "        x = F.relu(self.conv3(x, edge_index))\n",
    "\n",
    "        x, edge_index, _, batch, _, score = self.pool3(x, edge_index, None, batch)\n",
    "        x3 = torch.cat([gmp(x, batch), gap(x, batch)], dim=1)\n",
    "\n",
    "        x = x1 + x2 + x3\n",
    "\n",
    "        x = self.lin1(x)\n",
    "        x = self.act1(x)\n",
    "        x = self.lin2(x)\n",
    "        x = self.act2(x)      \n",
    "        x = F.dropout(x, p=0.5, training=self.training)\n",
    "\n",
    "        x = torch.sigmoid(self.lin3(x)).squeeze(1)\n",
    "\n",
    "        return x"
   ]
  },
  {
   "cell_type": "markdown",
   "id": "7aab8662",
   "metadata": {},
   "source": [
    "### Step2.4: Training"
   ]
  },
  {
   "cell_type": "code",
   "execution_count": 178,
   "id": "5c6b1c8b",
   "metadata": {},
   "outputs": [
    {
     "name": "stdout",
     "output_type": "stream",
     "text": [
      "<class 'torch_geometric.data.batch.Batch'>\n",
      "Batch(batch=[2842], edge_index=[2, 2476], ptr=[1025], x=[2842, 1], y=[1024])\n",
      "<class 'torch_geometric.data.batch.Batch'>\n",
      "Batch(batch=[2999], edge_index=[2, 2637], ptr=[1025], x=[2999, 1], y=[1024])\n",
      "<class 'torch_geometric.data.batch.Batch'>\n",
      "Batch(batch=[2827], edge_index=[2, 2436], ptr=[1025], x=[2827, 1], y=[1024])\n",
      "<class 'torch_geometric.data.batch.Batch'>\n",
      "Batch(batch=[2876], edge_index=[2, 2455], ptr=[1025], x=[2876, 1], y=[1024])\n",
      "<class 'torch_geometric.data.batch.Batch'>\n",
      "Batch(batch=[3072], edge_index=[2, 2747], ptr=[1025], x=[3072, 1], y=[1024])\n",
      "<class 'torch_geometric.data.batch.Batch'>\n",
      "Batch(batch=[2948], edge_index=[2, 2602], ptr=[1025], x=[2948, 1], y=[1024])\n",
      "<class 'torch_geometric.data.batch.Batch'>\n",
      "Batch(batch=[2845], edge_index=[2, 2428], ptr=[1025], x=[2845, 1], y=[1024])\n",
      "<class 'torch_geometric.data.batch.Batch'>\n",
      "Batch(batch=[2884], edge_index=[2, 2559], ptr=[1025], x=[2884, 1], y=[1024])\n",
      "<class 'torch_geometric.data.batch.Batch'>\n",
      "Batch(batch=[2922], edge_index=[2, 2617], ptr=[1025], x=[2922, 1], y=[1024])\n",
      "<class 'torch_geometric.data.batch.Batch'>\n",
      "Batch(batch=[3229], edge_index=[2, 3033], ptr=[1025], x=[3229, 1], y=[1024])\n",
      "<class 'torch_geometric.data.batch.Batch'>\n",
      "Batch(batch=[3024], edge_index=[2, 2688], ptr=[1025], x=[3024, 1], y=[1024])\n",
      "<class 'torch_geometric.data.batch.Batch'>\n",
      "Batch(batch=[2986], edge_index=[2, 2734], ptr=[1025], x=[2986, 1], y=[1024])\n",
      "<class 'torch_geometric.data.batch.Batch'>\n",
      "Batch(batch=[2787], edge_index=[2, 2411], ptr=[1025], x=[2787, 1], y=[1024])\n",
      "<class 'torch_geometric.data.batch.Batch'>\n",
      "Batch(batch=[3033], edge_index=[2, 2726], ptr=[1025], x=[3033, 1], y=[1024])\n",
      "<class 'torch_geometric.data.batch.Batch'>\n",
      "Batch(batch=[2931], edge_index=[2, 2579], ptr=[1025], x=[2931, 1], y=[1024])\n",
      "<class 'torch_geometric.data.batch.Batch'>\n",
      "Batch(batch=[2763], edge_index=[2, 2344], ptr=[1025], x=[2763, 1], y=[1024])\n",
      "<class 'torch_geometric.data.batch.Batch'>\n",
      "Batch(batch=[2955], edge_index=[2, 2631], ptr=[1025], x=[2955, 1], y=[1024])\n",
      "<class 'torch_geometric.data.batch.Batch'>\n",
      "Batch(batch=[3022], edge_index=[2, 2714], ptr=[1025], x=[3022, 1], y=[1024])\n",
      "<class 'torch_geometric.data.batch.Batch'>\n",
      "Batch(batch=[2954], edge_index=[2, 2685], ptr=[1025], x=[2954, 1], y=[1024])\n",
      "<class 'torch_geometric.data.batch.Batch'>\n",
      "Batch(batch=[2888], edge_index=[2, 2570], ptr=[1025], x=[2888, 1], y=[1024])\n",
      "<class 'torch_geometric.data.batch.Batch'>\n",
      "Batch(batch=[2959], edge_index=[2, 2678], ptr=[1025], x=[2959, 1], y=[1024])\n",
      "<class 'torch_geometric.data.batch.Batch'>\n",
      "Batch(batch=[3140], edge_index=[2, 2790], ptr=[1025], x=[3140, 1], y=[1024])\n",
      "<class 'torch_geometric.data.batch.Batch'>\n",
      "Batch(batch=[2896], edge_index=[2, 2528], ptr=[1025], x=[2896, 1], y=[1024])\n",
      "<class 'torch_geometric.data.batch.Batch'>\n",
      "Batch(batch=[2908], edge_index=[2, 2572], ptr=[1025], x=[2908, 1], y=[1024])\n",
      "<class 'torch_geometric.data.batch.Batch'>\n",
      "Batch(batch=[2847], edge_index=[2, 2502], ptr=[1025], x=[2847, 1], y=[1024])\n",
      "<class 'torch_geometric.data.batch.Batch'>\n",
      "Batch(batch=[3069], edge_index=[2, 2821], ptr=[1025], x=[3069, 1], y=[1024])\n",
      "<class 'torch_geometric.data.batch.Batch'>\n",
      "Batch(batch=[2893], edge_index=[2, 2566], ptr=[1025], x=[2893, 1], y=[1024])\n",
      "<class 'torch_geometric.data.batch.Batch'>\n",
      "Batch(batch=[2966], edge_index=[2, 2606], ptr=[1025], x=[2966, 1], y=[1024])\n",
      "<class 'torch_geometric.data.batch.Batch'>\n",
      "Batch(batch=[2929], edge_index=[2, 2698], ptr=[1025], x=[2929, 1], y=[1024])\n",
      "<class 'torch_geometric.data.batch.Batch'>\n",
      "Batch(batch=[3037], edge_index=[2, 2687], ptr=[1025], x=[3037, 1], y=[1024])\n",
      "<class 'torch_geometric.data.batch.Batch'>\n",
      "Batch(batch=[3065], edge_index=[2, 2810], ptr=[1025], x=[3065, 1], y=[1024])\n",
      "<class 'torch_geometric.data.batch.Batch'>\n",
      "Batch(batch=[2837], edge_index=[2, 2509], ptr=[1025], x=[2837, 1], y=[1024])\n",
      "<class 'torch_geometric.data.batch.Batch'>\n",
      "Batch(batch=[2861], edge_index=[2, 2454], ptr=[1025], x=[2861, 1], y=[1024])\n",
      "<class 'torch_geometric.data.batch.Batch'>\n",
      "Batch(batch=[3010], edge_index=[2, 2698], ptr=[1025], x=[3010, 1], y=[1024])\n",
      "<class 'torch_geometric.data.batch.Batch'>\n",
      "Batch(batch=[3096], edge_index=[2, 2795], ptr=[1025], x=[3096, 1], y=[1024])\n",
      "<class 'torch_geometric.data.batch.Batch'>\n",
      "Batch(batch=[2757], edge_index=[2, 2432], ptr=[1025], x=[2757, 1], y=[1024])\n",
      "<class 'torch_geometric.data.batch.Batch'>\n",
      "Batch(batch=[2854], edge_index=[2, 2584], ptr=[1025], x=[2854, 1], y=[1024])\n",
      "<class 'torch_geometric.data.batch.Batch'>\n",
      "Batch(batch=[2892], edge_index=[2, 2692], ptr=[1025], x=[2892, 1], y=[1024])\n",
      "<class 'torch_geometric.data.batch.Batch'>\n",
      "Batch(batch=[3055], edge_index=[2, 2768], ptr=[1025], x=[3055, 1], y=[1024])\n",
      "<class 'torch_geometric.data.batch.Batch'>\n",
      "Batch(batch=[3000], edge_index=[2, 2787], ptr=[1025], x=[3000, 1], y=[1024])\n",
      "<class 'torch_geometric.data.batch.Batch'>\n",
      "Batch(batch=[2757], edge_index=[2, 2400], ptr=[1025], x=[2757, 1], y=[1024])\n",
      "<class 'torch_geometric.data.batch.Batch'>\n",
      "Batch(batch=[2975], edge_index=[2, 2556], ptr=[1025], x=[2975, 1], y=[1024])\n",
      "<class 'torch_geometric.data.batch.Batch'>\n",
      "Batch(batch=[2965], edge_index=[2, 2609], ptr=[1025], x=[2965, 1], y=[1024])\n",
      "<class 'torch_geometric.data.batch.Batch'>\n",
      "Batch(batch=[3126], edge_index=[2, 2841], ptr=[1025], x=[3126, 1], y=[1024])\n",
      "<class 'torch_geometric.data.batch.Batch'>\n",
      "Batch(batch=[2874], edge_index=[2, 2505], ptr=[1025], x=[2874, 1], y=[1024])\n",
      "<class 'torch_geometric.data.batch.Batch'>\n",
      "Batch(batch=[2894], edge_index=[2, 2631], ptr=[1025], x=[2894, 1], y=[1024])\n",
      "<class 'torch_geometric.data.batch.Batch'>\n",
      "Batch(batch=[2752], edge_index=[2, 2433], ptr=[1025], x=[2752, 1], y=[1024])\n",
      "<class 'torch_geometric.data.batch.Batch'>\n",
      "Batch(batch=[3021], edge_index=[2, 2736], ptr=[1025], x=[3021, 1], y=[1024])\n",
      "<class 'torch_geometric.data.batch.Batch'>\n",
      "Batch(batch=[2921], edge_index=[2, 2608], ptr=[1025], x=[2921, 1], y=[1024])\n",
      "<class 'torch_geometric.data.batch.Batch'>\n",
      "Batch(batch=[2892], edge_index=[2, 2448], ptr=[1025], x=[2892, 1], y=[1024])\n",
      "<class 'torch_geometric.data.batch.Batch'>\n",
      "Batch(batch=[2851], edge_index=[2, 2496], ptr=[1025], x=[2851, 1], y=[1024])\n",
      "<class 'torch_geometric.data.batch.Batch'>\n",
      "Batch(batch=[2985], edge_index=[2, 2667], ptr=[1025], x=[2985, 1], y=[1024])\n",
      "<class 'torch_geometric.data.batch.Batch'>\n",
      "Batch(batch=[3184], edge_index=[2, 2875], ptr=[1025], x=[3184, 1], y=[1024])\n",
      "<class 'torch_geometric.data.batch.Batch'>\n",
      "Batch(batch=[2797], edge_index=[2, 2441], ptr=[1025], x=[2797, 1], y=[1024])\n",
      "<class 'torch_geometric.data.batch.Batch'>\n",
      "Batch(batch=[2862], edge_index=[2, 2450], ptr=[1025], x=[2862, 1], y=[1024])\n",
      "<class 'torch_geometric.data.batch.Batch'>\n",
      "Batch(batch=[2965], edge_index=[2, 2711], ptr=[1025], x=[2965, 1], y=[1024])\n",
      "<class 'torch_geometric.data.batch.Batch'>\n",
      "Batch(batch=[3067], edge_index=[2, 2834], ptr=[1025], x=[3067, 1], y=[1024])\n",
      "<class 'torch_geometric.data.batch.Batch'>\n",
      "Batch(batch=[3177], edge_index=[2, 2964], ptr=[1025], x=[3177, 1], y=[1024])\n",
      "<class 'torch_geometric.data.batch.Batch'>\n",
      "Batch(batch=[2973], edge_index=[2, 2669], ptr=[1025], x=[2973, 1], y=[1024])\n",
      "<class 'torch_geometric.data.batch.Batch'>\n",
      "Batch(batch=[2929], edge_index=[2, 2578], ptr=[1025], x=[2929, 1], y=[1024])\n",
      "<class 'torch_geometric.data.batch.Batch'>\n",
      "Batch(batch=[2823], edge_index=[2, 2466], ptr=[1025], x=[2823, 1], y=[1024])\n",
      "<class 'torch_geometric.data.batch.Batch'>\n",
      "Batch(batch=[3049], edge_index=[2, 2728], ptr=[1025], x=[3049, 1], y=[1024])\n",
      "<class 'torch_geometric.data.batch.Batch'>\n",
      "Batch(batch=[3003], edge_index=[2, 2630], ptr=[1025], x=[3003, 1], y=[1024])\n",
      "<class 'torch_geometric.data.batch.Batch'>\n",
      "Batch(batch=[2883], edge_index=[2, 2555], ptr=[1025], x=[2883, 1], y=[1024])\n",
      "<class 'torch_geometric.data.batch.Batch'>\n",
      "Batch(batch=[3105], edge_index=[2, 2863], ptr=[1025], x=[3105, 1], y=[1024])\n",
      "<class 'torch_geometric.data.batch.Batch'>\n",
      "Batch(batch=[2965], edge_index=[2, 2623], ptr=[1025], x=[2965, 1], y=[1024])\n",
      "<class 'torch_geometric.data.batch.Batch'>\n",
      "Batch(batch=[3014], edge_index=[2, 2788], ptr=[1025], x=[3014, 1], y=[1024])\n",
      "<class 'torch_geometric.data.batch.Batch'>\n",
      "Batch(batch=[2968], edge_index=[2, 2610], ptr=[1025], x=[2968, 1], y=[1024])\n",
      "<class 'torch_geometric.data.batch.Batch'>\n",
      "Batch(batch=[2832], edge_index=[2, 2570], ptr=[1025], x=[2832, 1], y=[1024])\n"
     ]
    },
    {
     "name": "stdout",
     "output_type": "stream",
     "text": [
      "<class 'torch_geometric.data.batch.Batch'>\n",
      "Batch(batch=[2978], edge_index=[2, 2596], ptr=[1025], x=[2978, 1], y=[1024])\n",
      "<class 'torch_geometric.data.batch.Batch'>\n",
      "Batch(batch=[2847], edge_index=[2, 2541], ptr=[1025], x=[2847, 1], y=[1024])\n",
      "<class 'torch_geometric.data.batch.Batch'>\n",
      "Batch(batch=[2763], edge_index=[2, 2448], ptr=[1025], x=[2763, 1], y=[1024])\n",
      "<class 'torch_geometric.data.batch.Batch'>\n",
      "Batch(batch=[3048], edge_index=[2, 2757], ptr=[1025], x=[3048, 1], y=[1024])\n",
      "<class 'torch_geometric.data.batch.Batch'>\n",
      "Batch(batch=[2857], edge_index=[2, 2537], ptr=[1025], x=[2857, 1], y=[1024])\n",
      "<class 'torch_geometric.data.batch.Batch'>\n",
      "Batch(batch=[3112], edge_index=[2, 2818], ptr=[1025], x=[3112, 1], y=[1024])\n",
      "<class 'torch_geometric.data.batch.Batch'>\n",
      "Batch(batch=[2821], edge_index=[2, 2427], ptr=[1025], x=[2821, 1], y=[1024])\n",
      "<class 'torch_geometric.data.batch.Batch'>\n",
      "Batch(batch=[2843], edge_index=[2, 2497], ptr=[1025], x=[2843, 1], y=[1024])\n",
      "<class 'torch_geometric.data.batch.Batch'>\n",
      "Batch(batch=[2916], edge_index=[2, 2599], ptr=[1025], x=[2916, 1], y=[1024])\n",
      "<class 'torch_geometric.data.batch.Batch'>\n",
      "Batch(batch=[2919], edge_index=[2, 2603], ptr=[1025], x=[2919, 1], y=[1024])\n",
      "<class 'torch_geometric.data.batch.Batch'>\n",
      "Batch(batch=[2849], edge_index=[2, 2497], ptr=[1025], x=[2849, 1], y=[1024])\n",
      "<class 'torch_geometric.data.batch.Batch'>\n",
      "Batch(batch=[2861], edge_index=[2, 2564], ptr=[1025], x=[2861, 1], y=[1024])\n",
      "<class 'torch_geometric.data.batch.Batch'>\n",
      "Batch(batch=[2761], edge_index=[2, 2515], ptr=[1025], x=[2761, 1], y=[1024])\n",
      "<class 'torch_geometric.data.batch.Batch'>\n",
      "Batch(batch=[2971], edge_index=[2, 2651], ptr=[1025], x=[2971, 1], y=[1024])\n",
      "<class 'torch_geometric.data.batch.Batch'>\n",
      "Batch(batch=[2968], edge_index=[2, 2655], ptr=[1025], x=[2968, 1], y=[1024])\n",
      "<class 'torch_geometric.data.batch.Batch'>\n",
      "Batch(batch=[3075], edge_index=[2, 2742], ptr=[1025], x=[3075, 1], y=[1024])\n",
      "<class 'torch_geometric.data.batch.Batch'>\n",
      "Batch(batch=[2863], edge_index=[2, 2556], ptr=[1025], x=[2863, 1], y=[1024])\n",
      "<class 'torch_geometric.data.batch.Batch'>\n",
      "Batch(batch=[3063], edge_index=[2, 2774], ptr=[1025], x=[3063, 1], y=[1024])\n",
      "<class 'torch_geometric.data.batch.Batch'>\n",
      "Batch(batch=[3158], edge_index=[2, 2891], ptr=[1025], x=[3158, 1], y=[1024])\n",
      "<class 'torch_geometric.data.batch.Batch'>\n",
      "Batch(batch=[3115], edge_index=[2, 2882], ptr=[1025], x=[3115, 1], y=[1024])\n",
      "<class 'torch_geometric.data.batch.Batch'>\n",
      "Batch(batch=[2908], edge_index=[2, 2554], ptr=[1025], x=[2908, 1], y=[1024])\n",
      "<class 'torch_geometric.data.batch.Batch'>\n",
      "Batch(batch=[2841], edge_index=[2, 2483], ptr=[1025], x=[2841, 1], y=[1024])\n",
      "<class 'torch_geometric.data.batch.Batch'>\n",
      "Batch(batch=[2857], edge_index=[2, 2436], ptr=[1025], x=[2857, 1], y=[1024])\n",
      "<class 'torch_geometric.data.batch.Batch'>\n",
      "Batch(batch=[2958], edge_index=[2, 2612], ptr=[1025], x=[2958, 1], y=[1024])\n",
      "<class 'torch_geometric.data.batch.Batch'>\n",
      "Batch(batch=[2876], edge_index=[2, 2544], ptr=[1025], x=[2876, 1], y=[1024])\n",
      "<class 'torch_geometric.data.batch.Batch'>\n",
      "Batch(batch=[2891], edge_index=[2, 2677], ptr=[1025], x=[2891, 1], y=[1024])\n",
      "<class 'torch_geometric.data.batch.Batch'>\n",
      "Batch(batch=[2816], edge_index=[2, 2614], ptr=[1025], x=[2816, 1], y=[1024])\n",
      "<class 'torch_geometric.data.batch.Batch'>\n",
      "Batch(batch=[3045], edge_index=[2, 2680], ptr=[1025], x=[3045, 1], y=[1024])\n",
      "<class 'torch_geometric.data.batch.Batch'>\n",
      "Batch(batch=[2961], edge_index=[2, 2649], ptr=[1025], x=[2961, 1], y=[1024])\n",
      "<class 'torch_geometric.data.batch.Batch'>\n",
      "Batch(batch=[3095], edge_index=[2, 2808], ptr=[1025], x=[3095, 1], y=[1024])\n",
      "<class 'torch_geometric.data.batch.Batch'>\n",
      "Batch(batch=[2848], edge_index=[2, 2540], ptr=[1025], x=[2848, 1], y=[1024])\n",
      "<class 'torch_geometric.data.batch.Batch'>\n",
      "Batch(batch=[3164], edge_index=[2, 2840], ptr=[1025], x=[3164, 1], y=[1024])\n",
      "<class 'torch_geometric.data.batch.Batch'>\n",
      "Batch(batch=[2883], edge_index=[2, 2577], ptr=[1025], x=[2883, 1], y=[1024])\n",
      "<class 'torch_geometric.data.batch.Batch'>\n",
      "Batch(batch=[2889], edge_index=[2, 2589], ptr=[1025], x=[2889, 1], y=[1024])\n",
      "<class 'torch_geometric.data.batch.Batch'>\n",
      "Batch(batch=[2977], edge_index=[2, 2548], ptr=[1025], x=[2977, 1], y=[1024])\n",
      "<class 'torch_geometric.data.batch.Batch'>\n",
      "Batch(batch=[2859], edge_index=[2, 2489], ptr=[1025], x=[2859, 1], y=[1024])\n",
      "<class 'torch_geometric.data.batch.Batch'>\n",
      "Batch(batch=[2958], edge_index=[2, 2624], ptr=[1025], x=[2958, 1], y=[1024])\n",
      "<class 'torch_geometric.data.batch.Batch'>\n",
      "Batch(batch=[2918], edge_index=[2, 2597], ptr=[1025], x=[2918, 1], y=[1024])\n",
      "<class 'torch_geometric.data.batch.Batch'>\n",
      "Batch(batch=[2932], edge_index=[2, 2597], ptr=[1025], x=[2932, 1], y=[1024])\n",
      "<class 'torch_geometric.data.batch.Batch'>\n",
      "Batch(batch=[2954], edge_index=[2, 2574], ptr=[1025], x=[2954, 1], y=[1024])\n",
      "<class 'torch_geometric.data.batch.Batch'>\n",
      "Batch(batch=[3121], edge_index=[2, 2866], ptr=[1025], x=[3121, 1], y=[1024])\n",
      "<class 'torch_geometric.data.batch.Batch'>\n",
      "Batch(batch=[3136], edge_index=[2, 2915], ptr=[1025], x=[3136, 1], y=[1024])\n",
      "<class 'torch_geometric.data.batch.Batch'>\n",
      "Batch(batch=[2934], edge_index=[2, 2645], ptr=[1025], x=[2934, 1], y=[1024])\n",
      "<class 'torch_geometric.data.batch.Batch'>\n",
      "Batch(batch=[2934], edge_index=[2, 2628], ptr=[1025], x=[2934, 1], y=[1024])\n"
     ]
    },
    {
     "ename": "KeyboardInterrupt",
     "evalue": "",
     "output_type": "error",
     "traceback": [
      "\u001b[0;31m---------------------------------------------------------------------------\u001b[0m",
      "\u001b[0;31mKeyboardInterrupt\u001b[0m                         Traceback (most recent call last)",
      "\u001b[0;32m/var/folders/lm/cz7x2xr14rjcbgdmgkg156vr0000gn/T/ipykernel_84263/2952156274.py\u001b[0m in \u001b[0;36m<module>\u001b[0;34m\u001b[0m\n\u001b[1;32m     24\u001b[0m \u001b[0mnum_epochs\u001b[0m \u001b[0;34m=\u001b[0m \u001b[0;36m1\u001b[0m\u001b[0;34m\u001b[0m\u001b[0;34m\u001b[0m\u001b[0m\n\u001b[1;32m     25\u001b[0m \u001b[0;32mfor\u001b[0m \u001b[0mepoch\u001b[0m \u001b[0;32min\u001b[0m \u001b[0mrange\u001b[0m\u001b[0;34m(\u001b[0m\u001b[0mnum_epochs\u001b[0m\u001b[0;34m)\u001b[0m\u001b[0;34m:\u001b[0m\u001b[0;34m\u001b[0m\u001b[0;34m\u001b[0m\u001b[0m\n\u001b[0;32m---> 26\u001b[0;31m     \u001b[0mtrain\u001b[0m\u001b[0;34m(\u001b[0m\u001b[0;34m)\u001b[0m\u001b[0;34m\u001b[0m\u001b[0;34m\u001b[0m\u001b[0m\n\u001b[0m\u001b[1;32m     27\u001b[0m \u001b[0;34m\u001b[0m\u001b[0m\n\u001b[1;32m     28\u001b[0m \u001b[0mprint\u001b[0m\u001b[0;34m(\u001b[0m\u001b[0;34m'DONE'\u001b[0m\u001b[0;34m)\u001b[0m\u001b[0;34m\u001b[0m\u001b[0;34m\u001b[0m\u001b[0m\n",
      "\u001b[0;32m/var/folders/lm/cz7x2xr14rjcbgdmgkg156vr0000gn/T/ipykernel_84263/2952156274.py\u001b[0m in \u001b[0;36mtrain\u001b[0;34m()\u001b[0m\n\u001b[1;32m      8\u001b[0m         \u001b[0mprint\u001b[0m\u001b[0;34m(\u001b[0m\u001b[0mdata\u001b[0m\u001b[0;34m)\u001b[0m\u001b[0;34m\u001b[0m\u001b[0;34m\u001b[0m\u001b[0m\n\u001b[1;32m      9\u001b[0m         \u001b[0moptimizer\u001b[0m\u001b[0;34m.\u001b[0m\u001b[0mzero_grad\u001b[0m\u001b[0;34m(\u001b[0m\u001b[0;34m)\u001b[0m\u001b[0;34m\u001b[0m\u001b[0;34m\u001b[0m\u001b[0m\n\u001b[0;32m---> 10\u001b[0;31m         \u001b[0moutput\u001b[0m \u001b[0;34m=\u001b[0m \u001b[0mmodel\u001b[0m\u001b[0;34m(\u001b[0m\u001b[0mdata\u001b[0m\u001b[0;34m)\u001b[0m\u001b[0;34m\u001b[0m\u001b[0;34m\u001b[0m\u001b[0m\n\u001b[0m\u001b[1;32m     11\u001b[0m         \u001b[0mlabel\u001b[0m \u001b[0;34m=\u001b[0m \u001b[0mdata\u001b[0m\u001b[0;34m.\u001b[0m\u001b[0my\u001b[0m\u001b[0;34m.\u001b[0m\u001b[0mto\u001b[0m\u001b[0;34m(\u001b[0m\u001b[0mdevice\u001b[0m\u001b[0;34m)\u001b[0m\u001b[0;34m\u001b[0m\u001b[0;34m\u001b[0m\u001b[0m\n\u001b[1;32m     12\u001b[0m         \u001b[0mloss\u001b[0m \u001b[0;34m=\u001b[0m \u001b[0mcrit\u001b[0m\u001b[0;34m(\u001b[0m\u001b[0moutput\u001b[0m\u001b[0;34m,\u001b[0m \u001b[0mlabel\u001b[0m\u001b[0;34m)\u001b[0m\u001b[0;34m\u001b[0m\u001b[0;34m\u001b[0m\u001b[0m\n",
      "\u001b[0;32m~/Documents/dev/git/ml/Graph-Machine-Learning/.env/lib/python3.8/site-packages/torch/nn/modules/module.py\u001b[0m in \u001b[0;36m_call_impl\u001b[0;34m(self, *input, **kwargs)\u001b[0m\n\u001b[1;32m   1049\u001b[0m         if not (self._backward_hooks or self._forward_hooks or self._forward_pre_hooks or _global_backward_hooks\n\u001b[1;32m   1050\u001b[0m                 or _global_forward_hooks or _global_forward_pre_hooks):\n\u001b[0;32m-> 1051\u001b[0;31m             \u001b[0;32mreturn\u001b[0m \u001b[0mforward_call\u001b[0m\u001b[0;34m(\u001b[0m\u001b[0;34m*\u001b[0m\u001b[0minput\u001b[0m\u001b[0;34m,\u001b[0m \u001b[0;34m**\u001b[0m\u001b[0mkwargs\u001b[0m\u001b[0;34m)\u001b[0m\u001b[0;34m\u001b[0m\u001b[0;34m\u001b[0m\u001b[0m\n\u001b[0m\u001b[1;32m   1052\u001b[0m         \u001b[0;31m# Do not call functions when jit is used\u001b[0m\u001b[0;34m\u001b[0m\u001b[0;34m\u001b[0m\u001b[0;34m\u001b[0m\u001b[0m\n\u001b[1;32m   1053\u001b[0m         \u001b[0mfull_backward_hooks\u001b[0m\u001b[0;34m,\u001b[0m \u001b[0mnon_full_backward_hooks\u001b[0m \u001b[0;34m=\u001b[0m \u001b[0;34m[\u001b[0m\u001b[0;34m]\u001b[0m\u001b[0;34m,\u001b[0m \u001b[0;34m[\u001b[0m\u001b[0;34m]\u001b[0m\u001b[0;34m\u001b[0m\u001b[0;34m\u001b[0m\u001b[0m\n",
      "\u001b[0;32m/var/folders/lm/cz7x2xr14rjcbgdmgkg156vr0000gn/T/ipykernel_84263/3853434009.py\u001b[0m in \u001b[0;36mforward\u001b[0;34m(self, data)\u001b[0m\n\u001b[1;32m     39\u001b[0m         \u001b[0mx2\u001b[0m \u001b[0;34m=\u001b[0m \u001b[0mtorch\u001b[0m\u001b[0;34m.\u001b[0m\u001b[0mcat\u001b[0m\u001b[0;34m(\u001b[0m\u001b[0;34m[\u001b[0m\u001b[0mgmp\u001b[0m\u001b[0;34m(\u001b[0m\u001b[0mx\u001b[0m\u001b[0;34m,\u001b[0m \u001b[0mbatch\u001b[0m\u001b[0;34m)\u001b[0m\u001b[0;34m,\u001b[0m \u001b[0mgap\u001b[0m\u001b[0;34m(\u001b[0m\u001b[0mx\u001b[0m\u001b[0;34m,\u001b[0m \u001b[0mbatch\u001b[0m\u001b[0;34m)\u001b[0m\u001b[0;34m]\u001b[0m\u001b[0;34m,\u001b[0m \u001b[0mdim\u001b[0m\u001b[0;34m=\u001b[0m\u001b[0;36m1\u001b[0m\u001b[0;34m)\u001b[0m\u001b[0;34m\u001b[0m\u001b[0;34m\u001b[0m\u001b[0m\n\u001b[1;32m     40\u001b[0m \u001b[0;34m\u001b[0m\u001b[0m\n\u001b[0;32m---> 41\u001b[0;31m         \u001b[0mx\u001b[0m \u001b[0;34m=\u001b[0m \u001b[0mF\u001b[0m\u001b[0;34m.\u001b[0m\u001b[0mrelu\u001b[0m\u001b[0;34m(\u001b[0m\u001b[0mself\u001b[0m\u001b[0;34m.\u001b[0m\u001b[0mconv3\u001b[0m\u001b[0;34m(\u001b[0m\u001b[0mx\u001b[0m\u001b[0;34m,\u001b[0m \u001b[0medge_index\u001b[0m\u001b[0;34m)\u001b[0m\u001b[0;34m)\u001b[0m\u001b[0;34m\u001b[0m\u001b[0;34m\u001b[0m\u001b[0m\n\u001b[0m\u001b[1;32m     42\u001b[0m \u001b[0;34m\u001b[0m\u001b[0m\n\u001b[1;32m     43\u001b[0m         \u001b[0mx\u001b[0m\u001b[0;34m,\u001b[0m \u001b[0medge_index\u001b[0m\u001b[0;34m,\u001b[0m \u001b[0m_\u001b[0m\u001b[0;34m,\u001b[0m \u001b[0mbatch\u001b[0m\u001b[0;34m,\u001b[0m \u001b[0m_\u001b[0m\u001b[0;34m,\u001b[0m \u001b[0mscore\u001b[0m \u001b[0;34m=\u001b[0m \u001b[0mself\u001b[0m\u001b[0;34m.\u001b[0m\u001b[0mpool3\u001b[0m\u001b[0;34m(\u001b[0m\u001b[0mx\u001b[0m\u001b[0;34m,\u001b[0m \u001b[0medge_index\u001b[0m\u001b[0;34m,\u001b[0m \u001b[0;32mNone\u001b[0m\u001b[0;34m,\u001b[0m \u001b[0mbatch\u001b[0m\u001b[0;34m)\u001b[0m\u001b[0;34m\u001b[0m\u001b[0;34m\u001b[0m\u001b[0m\n",
      "\u001b[0;32m~/Documents/dev/git/ml/Graph-Machine-Learning/.env/lib/python3.8/site-packages/torch/nn/modules/module.py\u001b[0m in \u001b[0;36m_call_impl\u001b[0;34m(self, *input, **kwargs)\u001b[0m\n\u001b[1;32m   1049\u001b[0m         if not (self._backward_hooks or self._forward_hooks or self._forward_pre_hooks or _global_backward_hooks\n\u001b[1;32m   1050\u001b[0m                 or _global_forward_hooks or _global_forward_pre_hooks):\n\u001b[0;32m-> 1051\u001b[0;31m             \u001b[0;32mreturn\u001b[0m \u001b[0mforward_call\u001b[0m\u001b[0;34m(\u001b[0m\u001b[0;34m*\u001b[0m\u001b[0minput\u001b[0m\u001b[0;34m,\u001b[0m \u001b[0;34m**\u001b[0m\u001b[0mkwargs\u001b[0m\u001b[0;34m)\u001b[0m\u001b[0;34m\u001b[0m\u001b[0;34m\u001b[0m\u001b[0m\n\u001b[0m\u001b[1;32m   1052\u001b[0m         \u001b[0;31m# Do not call functions when jit is used\u001b[0m\u001b[0;34m\u001b[0m\u001b[0;34m\u001b[0m\u001b[0;34m\u001b[0m\u001b[0m\n\u001b[1;32m   1053\u001b[0m         \u001b[0mfull_backward_hooks\u001b[0m\u001b[0;34m,\u001b[0m \u001b[0mnon_full_backward_hooks\u001b[0m \u001b[0;34m=\u001b[0m \u001b[0;34m[\u001b[0m\u001b[0;34m]\u001b[0m\u001b[0;34m,\u001b[0m \u001b[0;34m[\u001b[0m\u001b[0;34m]\u001b[0m\u001b[0;34m\u001b[0m\u001b[0;34m\u001b[0m\u001b[0m\n",
      "\u001b[0;32m/var/folders/lm/cz7x2xr14rjcbgdmgkg156vr0000gn/T/ipykernel_84263/2003338988.py\u001b[0m in \u001b[0;36mforward\u001b[0;34m(self, x, edge_index)\u001b[0m\n\u001b[1;32m     20\u001b[0m \u001b[0;34m\u001b[0m\u001b[0m\n\u001b[1;32m     21\u001b[0m \u001b[0;34m\u001b[0m\u001b[0m\n\u001b[0;32m---> 22\u001b[0;31m         \u001b[0;32mreturn\u001b[0m \u001b[0mself\u001b[0m\u001b[0;34m.\u001b[0m\u001b[0mpropagate\u001b[0m\u001b[0;34m(\u001b[0m\u001b[0medge_index\u001b[0m\u001b[0;34m,\u001b[0m \u001b[0msize\u001b[0m\u001b[0;34m=\u001b[0m\u001b[0;34m(\u001b[0m\u001b[0mx\u001b[0m\u001b[0;34m.\u001b[0m\u001b[0msize\u001b[0m\u001b[0;34m(\u001b[0m\u001b[0;36m0\u001b[0m\u001b[0;34m)\u001b[0m\u001b[0;34m,\u001b[0m \u001b[0mx\u001b[0m\u001b[0;34m.\u001b[0m\u001b[0msize\u001b[0m\u001b[0;34m(\u001b[0m\u001b[0;36m0\u001b[0m\u001b[0;34m)\u001b[0m\u001b[0;34m)\u001b[0m\u001b[0;34m,\u001b[0m \u001b[0mx\u001b[0m\u001b[0;34m=\u001b[0m\u001b[0mx\u001b[0m\u001b[0;34m)\u001b[0m\u001b[0;34m\u001b[0m\u001b[0;34m\u001b[0m\u001b[0m\n\u001b[0m\u001b[1;32m     23\u001b[0m \u001b[0;34m\u001b[0m\u001b[0m\n\u001b[1;32m     24\u001b[0m     \u001b[0;32mdef\u001b[0m \u001b[0mmessage\u001b[0m\u001b[0;34m(\u001b[0m\u001b[0mself\u001b[0m\u001b[0;34m,\u001b[0m \u001b[0mx_j\u001b[0m\u001b[0;34m)\u001b[0m\u001b[0;34m:\u001b[0m\u001b[0;34m\u001b[0m\u001b[0;34m\u001b[0m\u001b[0m\n",
      "\u001b[0;32m~/Documents/dev/git/ml/Graph-Machine-Learning/.env/lib/python3.8/site-packages/torch_geometric/nn/conv/message_passing.py\u001b[0m in \u001b[0;36mpropagate\u001b[0;34m(self, edge_index, size, **kwargs)\u001b[0m\n\u001b[1;32m    235\u001b[0m \u001b[0;34m\u001b[0m\u001b[0m\n\u001b[1;32m    236\u001b[0m             \u001b[0mmsg_kwargs\u001b[0m \u001b[0;34m=\u001b[0m \u001b[0mself\u001b[0m\u001b[0;34m.\u001b[0m\u001b[0minspector\u001b[0m\u001b[0;34m.\u001b[0m\u001b[0mdistribute\u001b[0m\u001b[0;34m(\u001b[0m\u001b[0;34m'message'\u001b[0m\u001b[0;34m,\u001b[0m \u001b[0mcoll_dict\u001b[0m\u001b[0;34m)\u001b[0m\u001b[0;34m\u001b[0m\u001b[0;34m\u001b[0m\u001b[0m\n\u001b[0;32m--> 237\u001b[0;31m             \u001b[0mout\u001b[0m \u001b[0;34m=\u001b[0m \u001b[0mself\u001b[0m\u001b[0;34m.\u001b[0m\u001b[0mmessage\u001b[0m\u001b[0;34m(\u001b[0m\u001b[0;34m**\u001b[0m\u001b[0mmsg_kwargs\u001b[0m\u001b[0;34m)\u001b[0m\u001b[0;34m\u001b[0m\u001b[0;34m\u001b[0m\u001b[0m\n\u001b[0m\u001b[1;32m    238\u001b[0m \u001b[0;34m\u001b[0m\u001b[0m\n\u001b[1;32m    239\u001b[0m             \u001b[0;31m# For `GNNExplainer`, we require a separate message and aggregate\u001b[0m\u001b[0;34m\u001b[0m\u001b[0;34m\u001b[0m\u001b[0;34m\u001b[0m\u001b[0m\n",
      "\u001b[0;32m/var/folders/lm/cz7x2xr14rjcbgdmgkg156vr0000gn/T/ipykernel_84263/2003338988.py\u001b[0m in \u001b[0;36mmessage\u001b[0;34m(self, x_j)\u001b[0m\n\u001b[1;32m     25\u001b[0m         \u001b[0;31m# x_j has shape [E, in_channels]\u001b[0m\u001b[0;34m\u001b[0m\u001b[0;34m\u001b[0m\u001b[0;34m\u001b[0m\u001b[0m\n\u001b[1;32m     26\u001b[0m \u001b[0;34m\u001b[0m\u001b[0m\n\u001b[0;32m---> 27\u001b[0;31m         \u001b[0mx_j\u001b[0m \u001b[0;34m=\u001b[0m \u001b[0mself\u001b[0m\u001b[0;34m.\u001b[0m\u001b[0mlin\u001b[0m\u001b[0;34m(\u001b[0m\u001b[0mx_j\u001b[0m\u001b[0;34m)\u001b[0m\u001b[0;34m\u001b[0m\u001b[0;34m\u001b[0m\u001b[0m\n\u001b[0m\u001b[1;32m     28\u001b[0m         \u001b[0mx_j\u001b[0m \u001b[0;34m=\u001b[0m \u001b[0mself\u001b[0m\u001b[0;34m.\u001b[0m\u001b[0mact\u001b[0m\u001b[0;34m(\u001b[0m\u001b[0mx_j\u001b[0m\u001b[0;34m)\u001b[0m\u001b[0;34m\u001b[0m\u001b[0;34m\u001b[0m\u001b[0m\n\u001b[1;32m     29\u001b[0m \u001b[0;34m\u001b[0m\u001b[0m\n",
      "\u001b[0;32m~/Documents/dev/git/ml/Graph-Machine-Learning/.env/lib/python3.8/site-packages/torch/nn/modules/module.py\u001b[0m in \u001b[0;36m_call_impl\u001b[0;34m(self, *input, **kwargs)\u001b[0m\n\u001b[1;32m   1049\u001b[0m         if not (self._backward_hooks or self._forward_hooks or self._forward_pre_hooks or _global_backward_hooks\n\u001b[1;32m   1050\u001b[0m                 or _global_forward_hooks or _global_forward_pre_hooks):\n\u001b[0;32m-> 1051\u001b[0;31m             \u001b[0;32mreturn\u001b[0m \u001b[0mforward_call\u001b[0m\u001b[0;34m(\u001b[0m\u001b[0;34m*\u001b[0m\u001b[0minput\u001b[0m\u001b[0;34m,\u001b[0m \u001b[0;34m**\u001b[0m\u001b[0mkwargs\u001b[0m\u001b[0;34m)\u001b[0m\u001b[0;34m\u001b[0m\u001b[0;34m\u001b[0m\u001b[0m\n\u001b[0m\u001b[1;32m   1052\u001b[0m         \u001b[0;31m# Do not call functions when jit is used\u001b[0m\u001b[0;34m\u001b[0m\u001b[0;34m\u001b[0m\u001b[0;34m\u001b[0m\u001b[0m\n\u001b[1;32m   1053\u001b[0m         \u001b[0mfull_backward_hooks\u001b[0m\u001b[0;34m,\u001b[0m \u001b[0mnon_full_backward_hooks\u001b[0m \u001b[0;34m=\u001b[0m \u001b[0;34m[\u001b[0m\u001b[0;34m]\u001b[0m\u001b[0;34m,\u001b[0m \u001b[0;34m[\u001b[0m\u001b[0;34m]\u001b[0m\u001b[0;34m\u001b[0m\u001b[0;34m\u001b[0m\u001b[0m\n",
      "\u001b[0;32m~/Documents/dev/git/ml/Graph-Machine-Learning/.env/lib/python3.8/site-packages/torch/nn/modules/linear.py\u001b[0m in \u001b[0;36mforward\u001b[0;34m(self, input)\u001b[0m\n\u001b[1;32m     94\u001b[0m \u001b[0;34m\u001b[0m\u001b[0m\n\u001b[1;32m     95\u001b[0m     \u001b[0;32mdef\u001b[0m \u001b[0mforward\u001b[0m\u001b[0;34m(\u001b[0m\u001b[0mself\u001b[0m\u001b[0;34m,\u001b[0m \u001b[0minput\u001b[0m\u001b[0;34m:\u001b[0m \u001b[0mTensor\u001b[0m\u001b[0;34m)\u001b[0m \u001b[0;34m->\u001b[0m \u001b[0mTensor\u001b[0m\u001b[0;34m:\u001b[0m\u001b[0;34m\u001b[0m\u001b[0;34m\u001b[0m\u001b[0m\n\u001b[0;32m---> 96\u001b[0;31m         \u001b[0;32mreturn\u001b[0m \u001b[0mF\u001b[0m\u001b[0;34m.\u001b[0m\u001b[0mlinear\u001b[0m\u001b[0;34m(\u001b[0m\u001b[0minput\u001b[0m\u001b[0;34m,\u001b[0m \u001b[0mself\u001b[0m\u001b[0;34m.\u001b[0m\u001b[0mweight\u001b[0m\u001b[0;34m,\u001b[0m \u001b[0mself\u001b[0m\u001b[0;34m.\u001b[0m\u001b[0mbias\u001b[0m\u001b[0;34m)\u001b[0m\u001b[0;34m\u001b[0m\u001b[0;34m\u001b[0m\u001b[0m\n\u001b[0m\u001b[1;32m     97\u001b[0m \u001b[0;34m\u001b[0m\u001b[0m\n\u001b[1;32m     98\u001b[0m     \u001b[0;32mdef\u001b[0m \u001b[0mextra_repr\u001b[0m\u001b[0;34m(\u001b[0m\u001b[0mself\u001b[0m\u001b[0;34m)\u001b[0m \u001b[0;34m->\u001b[0m \u001b[0mstr\u001b[0m\u001b[0;34m:\u001b[0m\u001b[0;34m\u001b[0m\u001b[0;34m\u001b[0m\u001b[0m\n",
      "\u001b[0;32m~/Documents/dev/git/ml/Graph-Machine-Learning/.env/lib/python3.8/site-packages/torch/nn/functional.py\u001b[0m in \u001b[0;36mlinear\u001b[0;34m(input, weight, bias)\u001b[0m\n\u001b[1;32m   1845\u001b[0m     \u001b[0;32mif\u001b[0m \u001b[0mhas_torch_function_variadic\u001b[0m\u001b[0;34m(\u001b[0m\u001b[0minput\u001b[0m\u001b[0;34m,\u001b[0m \u001b[0mweight\u001b[0m\u001b[0;34m)\u001b[0m\u001b[0;34m:\u001b[0m\u001b[0;34m\u001b[0m\u001b[0;34m\u001b[0m\u001b[0m\n\u001b[1;32m   1846\u001b[0m         \u001b[0;32mreturn\u001b[0m \u001b[0mhandle_torch_function\u001b[0m\u001b[0;34m(\u001b[0m\u001b[0mlinear\u001b[0m\u001b[0;34m,\u001b[0m \u001b[0;34m(\u001b[0m\u001b[0minput\u001b[0m\u001b[0;34m,\u001b[0m \u001b[0mweight\u001b[0m\u001b[0;34m)\u001b[0m\u001b[0;34m,\u001b[0m \u001b[0minput\u001b[0m\u001b[0;34m,\u001b[0m \u001b[0mweight\u001b[0m\u001b[0;34m,\u001b[0m \u001b[0mbias\u001b[0m\u001b[0;34m=\u001b[0m\u001b[0mbias\u001b[0m\u001b[0;34m)\u001b[0m\u001b[0;34m\u001b[0m\u001b[0;34m\u001b[0m\u001b[0m\n\u001b[0;32m-> 1847\u001b[0;31m     \u001b[0;32mreturn\u001b[0m \u001b[0mtorch\u001b[0m\u001b[0;34m.\u001b[0m\u001b[0m_C\u001b[0m\u001b[0;34m.\u001b[0m\u001b[0m_nn\u001b[0m\u001b[0;34m.\u001b[0m\u001b[0mlinear\u001b[0m\u001b[0;34m(\u001b[0m\u001b[0minput\u001b[0m\u001b[0;34m,\u001b[0m \u001b[0mweight\u001b[0m\u001b[0;34m,\u001b[0m \u001b[0mbias\u001b[0m\u001b[0;34m)\u001b[0m\u001b[0;34m\u001b[0m\u001b[0;34m\u001b[0m\u001b[0m\n\u001b[0m\u001b[1;32m   1848\u001b[0m \u001b[0;34m\u001b[0m\u001b[0m\n\u001b[1;32m   1849\u001b[0m \u001b[0;34m\u001b[0m\u001b[0m\n",
      "\u001b[0;31mKeyboardInterrupt\u001b[0m: "
     ]
    }
   ],
   "source": [
    "def train():\n",
    "    model.train()\n",
    "\n",
    "    loss_all = 0\n",
    "    for data in train_loader:\n",
    "        data = data.to(device)\n",
    "        print(type(data))\n",
    "        print(data)\n",
    "        optimizer.zero_grad()\n",
    "        output = model(data)\n",
    "        label = data.y.to(device)\n",
    "        loss = crit(output, label)\n",
    "        loss.backward()\n",
    "        loss_all += data.num_graphs * loss.item()\n",
    "        optimizer.step()\n",
    "    return loss_all / len(train_dataset)\n",
    "    \n",
    "device = torch.device('cpu')\n",
    "model = Net().to(device)\n",
    "optimizer = torch.optim.Adam(model.parameters(), lr=0.005)\n",
    "crit = torch.nn.BCELoss()\n",
    "train_loader = DataLoader(train_dataset, batch_size=batch_size)\n",
    "\n",
    "num_epochs = 1\n",
    "for epoch in range(num_epochs):\n",
    "    train()\n",
    "    \n",
    "print('DONE')"
   ]
  },
  {
   "cell_type": "markdown",
   "id": "997d3c73",
   "metadata": {},
   "source": [
    "### Step2.5: Evaluate"
   ]
  },
  {
   "cell_type": "code",
   "execution_count": 29,
   "id": "c1ce5464",
   "metadata": {},
   "outputs": [
    {
     "data": {
      "text/plain": [
       "0.7315293309613901"
      ]
     },
     "execution_count": 29,
     "metadata": {},
     "output_type": "execute_result"
    }
   ],
   "source": [
    "from sklearn.metrics import roc_auc_score\n",
    "def evaluate(loader):\n",
    "    model.eval()\n",
    "\n",
    "    predictions = []\n",
    "    labels = []\n",
    "\n",
    "    with torch.no_grad():\n",
    "        for data in loader:\n",
    "\n",
    "            data = data.to(device)\n",
    "            pred = model(data).detach().cpu().numpy()\n",
    "\n",
    "            label = data.y.detach().cpu().numpy()\n",
    "            predictions.append(pred)\n",
    "            labels.append(label)\n",
    "\n",
    "    predictions = np.hstack(predictions)\n",
    "    labels = np.hstack(labels)\n",
    "    \n",
    "    return roc_auc_score(labels, predictions)\n",
    "\n",
    "test_loader = DataLoader(test_dataset, batch_size=batch_size)\n",
    "\n",
    "evaluate(test_loader)"
   ]
  },
  {
   "cell_type": "code",
   "execution_count": 30,
   "id": "984ea77b",
   "metadata": {},
   "outputs": [
    {
     "name": "stdout",
     "output_type": "stream",
     "text": [
      "Epoch: 000, Loss: 0.17595, Train Auc: 0.82499, Val Auc: 0.72343, Test Auc: 0.72170\n"
     ]
    }
   ],
   "source": [
    "# Previously defined\n",
    "# train_loader = DataLoader(train_dataset, batch_size=batch_size)\n",
    "# val_loader = DataLoader(val_dataset, batch_size=batch_size)\n",
    "# test_loader = DataLoader(test_dataset, batch_size=batch_size)\n",
    "\n",
    "for epoch in range(1):\n",
    "    loss = train()\n",
    "    train_acc = evaluate(train_loader)\n",
    "    val_acc = evaluate(val_loader)    \n",
    "    test_acc = evaluate(test_loader)\n",
    "    print('Epoch: {:03d}, Loss: {:.5f}, Train Auc: {:.5f}, Val Auc: {:.5f}, Test Auc: {:.5f}'.\n",
    "          format(epoch, loss, train_acc, val_acc, test_acc))\n",
    "\n",
    "    "
   ]
  },
  {
   "cell_type": "markdown",
   "id": "e20e1830",
   "metadata": {},
   "source": [
    "### Step 2.6: Look at Result"
   ]
  },
  {
   "cell_type": "code",
   "execution_count": 34,
   "id": "baa6e68a",
   "metadata": {},
   "outputs": [],
   "source": [
    "from torch.utils.tensorboard import SummaryWriter\n",
    "\n",
    "writer = SummaryWriter('/Users/chang/Documents/dev/git/ml/Graph-Machine-Learning/torch-geometric/results')\n"
   ]
  },
  {
   "cell_type": "code",
   "execution_count": 49,
   "id": "09be000a",
   "metadata": {},
   "outputs": [
    {
     "data": {
      "text/plain": [
       "('batch', tensor([   0,    0,    1,  ..., 1022, 1023, 1023]))"
      ]
     },
     "execution_count": 49,
     "metadata": {},
     "output_type": "execute_result"
    }
   ],
   "source": [
    "# Write to Tensorboard\n",
    "data_iter = iter(train_loader)\n",
    "#x=x, edge_index=edge_index, y=y\n",
    "batch, edge_index, ptr, x, y = data_iter.next()\n",
    "batch"
   ]
  },
  {
   "cell_type": "code",
   "execution_count": 44,
   "id": "14e73f5b",
   "metadata": {},
   "outputs": [
    {
     "data": {
      "text/plain": [
       "('edge_index',\n",
       " tensor([[   1,    4,    9,  ..., 2994, 2997, 3001],\n",
       "         [   0,    9,    3,  ..., 2994, 2996, 3000]]))"
      ]
     },
     "execution_count": 44,
     "metadata": {},
     "output_type": "execute_result"
    }
   ],
   "source": [
    "edge_index"
   ]
  },
  {
   "cell_type": "code",
   "execution_count": 45,
   "id": "1714fcfd",
   "metadata": {},
   "outputs": [
    {
     "data": {
      "text/plain": [
       "('ptr', tensor([   0,    2,   11,  ..., 2999, 3000, 3002]))"
      ]
     },
     "execution_count": 45,
     "metadata": {},
     "output_type": "execute_result"
    }
   ],
   "source": [
    "ptr\n"
   ]
  },
  {
   "cell_type": "code",
   "execution_count": 46,
   "id": "f89ac8ca",
   "metadata": {},
   "outputs": [
    {
     "data": {
      "text/plain": [
       "('x',\n",
       " tensor([[49017],\n",
       "         [50246],\n",
       "         [  133],\n",
       "         ...,\n",
       "         [49790],\n",
       "         [12406],\n",
       "         [20024]]))"
      ]
     },
     "execution_count": 46,
     "metadata": {},
     "output_type": "execute_result"
    }
   ],
   "source": [
    "x"
   ]
  },
  {
   "cell_type": "code",
   "execution_count": 47,
   "id": "44a65230",
   "metadata": {},
   "outputs": [
    {
     "data": {
      "text/plain": [
       "('y', tensor([0., 0., 0.,  ..., 0., 0., 0.]))"
      ]
     },
     "execution_count": 47,
     "metadata": {},
     "output_type": "execute_result"
    }
   ],
   "source": [
    "y"
   ]
  },
  {
   "cell_type": "code",
   "execution_count": null,
   "id": "cc5965cc",
   "metadata": {},
   "outputs": [],
   "source": []
  }
 ],
 "metadata": {
  "kernelspec": {
   "display_name": "graph-ml",
   "language": "python",
   "name": "graph-ml"
  },
  "language_info": {
   "codemirror_mode": {
    "name": "ipython",
    "version": 3
   },
   "file_extension": ".py",
   "mimetype": "text/x-python",
   "name": "python",
   "nbconvert_exporter": "python",
   "pygments_lexer": "ipython3",
   "version": "3.8.3"
  }
 },
 "nbformat": 4,
 "nbformat_minor": 5
}
