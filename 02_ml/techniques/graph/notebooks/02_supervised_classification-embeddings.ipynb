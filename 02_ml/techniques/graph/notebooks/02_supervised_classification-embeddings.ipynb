{
 "cells": [
  {
   "cell_type": "markdown",
   "metadata": {},
   "source": [
    "# Shallow-Learning Topic Modelling\n",
    "- Build a document topic classifier leveraging the graph topoglical information of our bipartite graph we created in 01_nlp_graph_creation.ipynb\n",
    "- Topic is the label in our raw dataset"
   ]
  },
  {
   "cell_type": "markdown",
   "metadata": {},
   "source": [
    "In the following we will show you how to create a topic model, using a shallow-learning approach. Here we will use the results and the embeddings obtained from the document-document projection of the bipartite graph.\n",
    "\n",
    "**NOTE: This Notebook can only be run after the 01_nlp_graph_creation notebook, as some of the results computed in the first notebook will be here reused.** "
   ]
  },
  {
   "cell_type": "markdown",
   "metadata": {},
   "source": [
    "### Load Dataset"
   ]
  },
  {
   "cell_type": "code",
   "execution_count": 99,
   "metadata": {},
   "outputs": [
    {
     "data": {
      "text/html": [
       "<div>\n",
       "<style scoped>\n",
       "    .dataframe tbody tr th:only-of-type {\n",
       "        vertical-align: middle;\n",
       "    }\n",
       "\n",
       "    .dataframe tbody tr th {\n",
       "        vertical-align: top;\n",
       "    }\n",
       "\n",
       "    .dataframe thead th {\n",
       "        text-align: right;\n",
       "    }\n",
       "</style>\n",
       "<table border=\"1\" class=\"dataframe\">\n",
       "  <thead>\n",
       "    <tr style=\"text-align: right;\">\n",
       "      <th></th>\n",
       "      <th>clean_text</th>\n",
       "      <th>label</th>\n",
       "      <th>language</th>\n",
       "      <th>parsed</th>\n",
       "    </tr>\n",
       "    <tr>\n",
       "      <th>id</th>\n",
       "      <th></th>\n",
       "      <th></th>\n",
       "      <th></th>\n",
       "      <th></th>\n",
       "    </tr>\n",
       "  </thead>\n",
       "  <tbody>\n",
       "    <tr>\n",
       "      <th>test/14826</th>\n",
       "      <td>ASIAN EXPORTERS FEAR DAMAGE FROM U.S.-JAPAN RI...</td>\n",
       "      <td>[trade]</td>\n",
       "      <td>en</td>\n",
       "      <td>(ASIAN, EXPORTERS, FEAR, DAMAGE, FROM, U.S.-JA...</td>\n",
       "    </tr>\n",
       "    <tr>\n",
       "      <th>test/14828</th>\n",
       "      <td>CHINA DAILY SAYS VERMIN EAT 7-12 PCT GRAIN STO...</td>\n",
       "      <td>[grain]</td>\n",
       "      <td>en</td>\n",
       "      <td>(CHINA, DAILY, SAYS, VERMIN, EAT, 7, -, 12, PC...</td>\n",
       "    </tr>\n",
       "  </tbody>\n",
       "</table>\n",
       "</div>"
      ],
      "text/plain": [
       "                                                   clean_text    label  \\\n",
       "id                                                                       \n",
       "test/14826  ASIAN EXPORTERS FEAR DAMAGE FROM U.S.-JAPAN RI...  [trade]   \n",
       "test/14828  CHINA DAILY SAYS VERMIN EAT 7-12 PCT GRAIN STO...  [grain]   \n",
       "\n",
       "           language                                             parsed  \n",
       "id                                                                      \n",
       "test/14826       en  (ASIAN, EXPORTERS, FEAR, DAMAGE, FROM, U.S.-JA...  \n",
       "test/14828       en  (CHINA, DAILY, SAYS, VERMIN, EAT, 7, -, 12, PC...  "
      ]
     },
     "execution_count": 99,
     "metadata": {},
     "output_type": "execute_result"
    }
   ],
   "source": [
    "import pandas as pd\n",
    "#file_corpus = \"/Users/chang/Documents/dev/git/ml/Graph-Machine-Learning/Chapter07/corpus_clean.csv\"\n",
    "#corpus = pd.read_csv(file_corpus, sep='\\t')\n",
    "corpus=pd.read_pickle(\"corpus.p\")\n",
    "corpus.head(2)"
   ]
  },
  {
   "cell_type": "code",
   "execution_count": 101,
   "metadata": {},
   "outputs": [
    {
     "data": {
      "text/plain": [
       "id\n",
       "test/14826                                           [trade]\n",
       "test/14828                                           [grain]\n",
       "test/14829                                  [crude, nat-gas]\n",
       "test/14832    [corn, grain, rice, rubber, sugar, tin, trade]\n",
       "test/14833                               [palm-oil, veg-oil]\n",
       "test/14839                                            [ship]\n",
       "test/14840       [coffee, lumber, palm-oil, rubber, veg-oil]\n",
       "test/14841                                    [grain, wheat]\n",
       "test/14842                                            [gold]\n",
       "test/14843                                             [acq]\n",
       "Name: label, dtype: object"
      ]
     },
     "execution_count": 101,
     "metadata": {},
     "output_type": "execute_result"
    }
   ],
   "source": [
    "#corpus['label'] = corpus['label'].apply(lambda label_str: label_str.strip('[]').replace(\"'\", \"\").split(', '))\n",
    "corpus['label'].head(10)"
   ]
  },
  {
   "cell_type": "code",
   "execution_count": 102,
   "metadata": {},
   "outputs": [
    {
     "data": {
      "text/plain": [
       "[('earn', 3964),\n",
       " ('acq', 2369),\n",
       " ('money-fx', 717),\n",
       " ('grain', 582),\n",
       " ('crude', 578),\n",
       " ('trade', 485),\n",
       " ('interest', 478),\n",
       " ('ship', 286),\n",
       " ('wheat', 283),\n",
       " ('corn', 237)]"
      ]
     },
     "execution_count": 102,
     "metadata": {},
     "output_type": "execute_result"
    }
   ],
   "source": [
    "from collections import Counter\n",
    "#topics = Counter([label.replace(\"'\", \"\") for labels in corpus['label'] for label in labels.strip('][').split(', ')]).most_common(10)\n",
    "\n",
    "topics = Counter([label for labels in corpus['label'] for label in labels]).most_common(10)\n",
    "topics"
   ]
  },
  {
   "cell_type": "code",
   "execution_count": 103,
   "metadata": {},
   "outputs": [
    {
     "data": {
      "text/plain": [
       "{'acq',\n",
       " 'corn',\n",
       " 'crude',\n",
       " 'earn',\n",
       " 'grain',\n",
       " 'interest',\n",
       " 'money-fx',\n",
       " 'ship',\n",
       " 'trade',\n",
       " 'wheat'}"
      ]
     },
     "execution_count": 103,
     "metadata": {},
     "output_type": "execute_result"
    }
   ],
   "source": [
    "topicsList = [topic[0] for topic in topics]\n",
    "topicsSet = set(topicsList)\n",
    "topicsSet"
   ]
  },
  {
   "cell_type": "code",
   "execution_count": 104,
   "metadata": {},
   "outputs": [
    {
     "data": {
      "text/html": [
       "<div>\n",
       "<style scoped>\n",
       "    .dataframe tbody tr th:only-of-type {\n",
       "        vertical-align: middle;\n",
       "    }\n",
       "\n",
       "    .dataframe tbody tr th {\n",
       "        vertical-align: top;\n",
       "    }\n",
       "\n",
       "    .dataframe thead th {\n",
       "        text-align: right;\n",
       "    }\n",
       "</style>\n",
       "<table border=\"1\" class=\"dataframe\">\n",
       "  <thead>\n",
       "    <tr style=\"text-align: right;\">\n",
       "      <th></th>\n",
       "      <th>clean_text</th>\n",
       "      <th>label</th>\n",
       "      <th>language</th>\n",
       "      <th>parsed</th>\n",
       "    </tr>\n",
       "    <tr>\n",
       "      <th>id</th>\n",
       "      <th></th>\n",
       "      <th></th>\n",
       "      <th></th>\n",
       "      <th></th>\n",
       "    </tr>\n",
       "  </thead>\n",
       "  <tbody>\n",
       "    <tr>\n",
       "      <th>test/14826</th>\n",
       "      <td>ASIAN EXPORTERS FEAR DAMAGE FROM U.S.-JAPAN RI...</td>\n",
       "      <td>[trade]</td>\n",
       "      <td>en</td>\n",
       "      <td>(ASIAN, EXPORTERS, FEAR, DAMAGE, FROM, U.S.-JA...</td>\n",
       "    </tr>\n",
       "    <tr>\n",
       "      <th>test/14828</th>\n",
       "      <td>CHINA DAILY SAYS VERMIN EAT 7-12 PCT GRAIN STO...</td>\n",
       "      <td>[grain]</td>\n",
       "      <td>en</td>\n",
       "      <td>(CHINA, DAILY, SAYS, VERMIN, EAT, 7, -, 12, PC...</td>\n",
       "    </tr>\n",
       "    <tr>\n",
       "      <th>test/14829</th>\n",
       "      <td>JAPAN TO REVISE LONG-TERM ENERGY DEMAND DOWNWA...</td>\n",
       "      <td>[crude, nat-gas]</td>\n",
       "      <td>en</td>\n",
       "      <td>(JAPAN, TO, REVISE, LONG, -, TERM, ENERGY, DEM...</td>\n",
       "    </tr>\n",
       "    <tr>\n",
       "      <th>test/14832</th>\n",
       "      <td>THAI TRADE DEFICIT WIDENS IN FIRST QUARTER  Th...</td>\n",
       "      <td>[corn, grain, rice, rubber, sugar, tin, trade]</td>\n",
       "      <td>en</td>\n",
       "      <td>(THAI, TRADE, DEFICIT, WIDENS, IN, FIRST, QUAR...</td>\n",
       "    </tr>\n",
       "    <tr>\n",
       "      <th>test/14839</th>\n",
       "      <td>AUSTRALIAN FOREIGN SHIP BAN ENDS BUT NSW PORTS...</td>\n",
       "      <td>[ship]</td>\n",
       "      <td>en</td>\n",
       "      <td>(AUSTRALIAN, FOREIGN, SHIP, BAN, ENDS, BUT, NS...</td>\n",
       "    </tr>\n",
       "    <tr>\n",
       "      <th>test/14841</th>\n",
       "      <td>SRI LANKA GETS USDA APPROVAL FOR WHEAT PRICE  ...</td>\n",
       "      <td>[grain, wheat]</td>\n",
       "      <td>en</td>\n",
       "      <td>(SRI, LANKA, GETS, USDA, APPROVAL, FOR, WHEAT,...</td>\n",
       "    </tr>\n",
       "    <tr>\n",
       "      <th>test/14843</th>\n",
       "      <td>SUMITOMO BANK AIMS AT QUICK RECOVERY FROM MERG...</td>\n",
       "      <td>[acq]</td>\n",
       "      <td>en</td>\n",
       "      <td>(SUMITOMO, BANK, AIMS, AT, QUICK, RECOVERY, FR...</td>\n",
       "    </tr>\n",
       "    <tr>\n",
       "      <th>test/14849</th>\n",
       "      <td>BUNDESBANK ALLOCATES 6.1 BILLION MARKS IN TEND...</td>\n",
       "      <td>[interest, money-fx]</td>\n",
       "      <td>en</td>\n",
       "      <td>(BUNDESBANK, ALLOCATES, 6.1, BILLION, MARKS, I...</td>\n",
       "    </tr>\n",
       "    <tr>\n",
       "      <th>test/14852</th>\n",
       "      <td>BOND CORP STILL CONSIDERING ATLAS MINING BAIL-...</td>\n",
       "      <td>[acq, copper]</td>\n",
       "      <td>en</td>\n",
       "      <td>(BOND, CORP, STILL, CONSIDERING, ATLAS, MINING...</td>\n",
       "    </tr>\n",
       "    <tr>\n",
       "      <th>test/14858</th>\n",
       "      <td>JAPAN MINISTRY SAYS OPEN FARM TRADE WOULD HIT ...</td>\n",
       "      <td>[carcass, corn, grain, livestock, oilseed, ric...</td>\n",
       "      <td>en</td>\n",
       "      <td>(JAPAN, MINISTRY, SAYS, OPEN, FARM, TRADE, WOU...</td>\n",
       "    </tr>\n",
       "  </tbody>\n",
       "</table>\n",
       "</div>"
      ],
      "text/plain": [
       "                                                   clean_text  \\\n",
       "id                                                              \n",
       "test/14826  ASIAN EXPORTERS FEAR DAMAGE FROM U.S.-JAPAN RI...   \n",
       "test/14828  CHINA DAILY SAYS VERMIN EAT 7-12 PCT GRAIN STO...   \n",
       "test/14829  JAPAN TO REVISE LONG-TERM ENERGY DEMAND DOWNWA...   \n",
       "test/14832  THAI TRADE DEFICIT WIDENS IN FIRST QUARTER  Th...   \n",
       "test/14839  AUSTRALIAN FOREIGN SHIP BAN ENDS BUT NSW PORTS...   \n",
       "test/14841  SRI LANKA GETS USDA APPROVAL FOR WHEAT PRICE  ...   \n",
       "test/14843  SUMITOMO BANK AIMS AT QUICK RECOVERY FROM MERG...   \n",
       "test/14849  BUNDESBANK ALLOCATES 6.1 BILLION MARKS IN TEND...   \n",
       "test/14852  BOND CORP STILL CONSIDERING ATLAS MINING BAIL-...   \n",
       "test/14858  JAPAN MINISTRY SAYS OPEN FARM TRADE WOULD HIT ...   \n",
       "\n",
       "                                                        label language  \\\n",
       "id                                                                       \n",
       "test/14826                                            [trade]       en   \n",
       "test/14828                                            [grain]       en   \n",
       "test/14829                                   [crude, nat-gas]       en   \n",
       "test/14832     [corn, grain, rice, rubber, sugar, tin, trade]       en   \n",
       "test/14839                                             [ship]       en   \n",
       "test/14841                                     [grain, wheat]       en   \n",
       "test/14843                                              [acq]       en   \n",
       "test/14849                               [interest, money-fx]       en   \n",
       "test/14852                                      [acq, copper]       en   \n",
       "test/14858  [carcass, corn, grain, livestock, oilseed, ric...       en   \n",
       "\n",
       "                                                       parsed  \n",
       "id                                                             \n",
       "test/14826  (ASIAN, EXPORTERS, FEAR, DAMAGE, FROM, U.S.-JA...  \n",
       "test/14828  (CHINA, DAILY, SAYS, VERMIN, EAT, 7, -, 12, PC...  \n",
       "test/14829  (JAPAN, TO, REVISE, LONG, -, TERM, ENERGY, DEM...  \n",
       "test/14832  (THAI, TRADE, DEFICIT, WIDENS, IN, FIRST, QUAR...  \n",
       "test/14839  (AUSTRALIAN, FOREIGN, SHIP, BAN, ENDS, BUT, NS...  \n",
       "test/14841  (SRI, LANKA, GETS, USDA, APPROVAL, FOR, WHEAT,...  \n",
       "test/14843  (SUMITOMO, BANK, AIMS, AT, QUICK, RECOVERY, FR...  \n",
       "test/14849  (BUNDESBANK, ALLOCATES, 6.1, BILLION, MARKS, I...  \n",
       "test/14852  (BOND, CORP, STILL, CONSIDERING, ATLAS, MINING...  \n",
       "test/14858  (JAPAN, MINISTRY, SAYS, OPEN, FARM, TRADE, WOU...  "
      ]
     },
     "execution_count": 104,
     "metadata": {},
     "output_type": "execute_result"
    }
   ],
   "source": [
    "dataset = corpus[corpus[\"label\"].apply(lambda x: len(topicsSet.intersection(x))>0)]\n",
    "dataset.head(10)"
   ]
  },
  {
   "cell_type": "markdown",
   "metadata": {},
   "source": [
    "Create a class to \"simulate\" the training of the embeddings"
   ]
  },
  {
   "cell_type": "code",
   "execution_count": 105,
   "metadata": {},
   "outputs": [],
   "source": [
    "from sklearn.base import BaseEstimator\n",
    "\n",
    "class EmbeddingsTransformer(BaseEstimator):\n",
    "    \n",
    "    def __init__(self, embeddings_file):\n",
    "        self.embeddings_file = embeddings_file\n",
    "        \n",
    "    def fit(self, *args, **kwargs):\n",
    "        self.embeddings = pd.read_pickle(self.embeddings_file)\n",
    "        return self\n",
    "        \n",
    "    def transform(self, X):\n",
    "        return self.embeddings.loc[X.index]\n",
    "    \n",
    "    def fit_transform(self, X, y):\n",
    "        return self.fit().transform(X)\n",
    "\n"
   ]
  },
  {
   "cell_type": "code",
   "execution_count": 106,
   "metadata": {},
   "outputs": [
    {
     "data": {
      "text/plain": [
       "['./embeddings/bipartiteGraphEmbeddings_10_20.p']"
      ]
     },
     "execution_count": 106,
     "metadata": {},
     "output_type": "execute_result"
    }
   ],
   "source": [
    "from glob import glob \n",
    "files = glob(\"./embeddings/*\")\n",
    "files"
   ]
  },
  {
   "cell_type": "code",
   "execution_count": 107,
   "metadata": {},
   "outputs": [
    {
     "data": {
      "text/plain": [
       "EmbeddingsTransformer(embeddings_file='./embeddings/bipartiteGraphEmbeddings_10_20.p')"
      ]
     },
     "execution_count": 107,
     "metadata": {},
     "output_type": "execute_result"
    }
   ],
   "source": [
    "graphEmbeddings = EmbeddingsTransformer(files[0]).fit()\n",
    "graphEmbeddings"
   ]
  },
  {
   "cell_type": "code",
   "execution_count": 108,
   "metadata": {},
   "outputs": [
    {
     "data": {
      "text/plain": [
       "{'embeddings_file': './embeddings/bipartiteGraphEmbeddings_10_20.p'}"
      ]
     },
     "execution_count": 108,
     "metadata": {},
     "output_type": "execute_result"
    }
   ],
   "source": [
    "graphEmbeddings.get_params()"
   ]
  },
  {
   "cell_type": "markdown",
   "metadata": {},
   "source": [
    "Train/Test split"
   ]
  },
  {
   "cell_type": "code",
   "execution_count": 66,
   "metadata": {},
   "outputs": [],
   "source": [
    "def get_labels(corpus, topicsList=topicsList):\n",
    "    return corpus[\"label\"].apply(\n",
    "        lambda labels: pd.Series({label: 1 for label in labels}).reindex(topicsList).fillna(0)\n",
    "    )[topicsList]"
   ]
  },
  {
   "cell_type": "code",
   "execution_count": 67,
   "metadata": {},
   "outputs": [],
   "source": [
    "def get_features(corpus):\n",
    "    return corpus[\"parsed\"] #graphEmbeddings.transform(corpus[\"parsed\"])"
   ]
  },
  {
   "cell_type": "code",
   "execution_count": 68,
   "metadata": {},
   "outputs": [],
   "source": [
    "def get_features_and_labels(corpus):\n",
    "    return get_features(corpus), get_labels(corpus)"
   ]
  },
  {
   "cell_type": "code",
   "execution_count": 111,
   "metadata": {},
   "outputs": [
    {
     "data": {
      "text/plain": [
       "id\n",
       "test/14826                                              [trade]\n",
       "test/14828                                              [grain]\n",
       "test/14829                                     [crude, nat-gas]\n",
       "test/14832       [corn, grain, rice, rubber, sugar, tin, trade]\n",
       "test/14833                                  [palm-oil, veg-oil]\n",
       "                                      ...                      \n",
       "training/999                               [interest, money-fx]\n",
       "training/9992                                            [earn]\n",
       "training/9993                                            [earn]\n",
       "training/9994                                            [earn]\n",
       "training/9995                                            [earn]\n",
       "Name: label, Length: 10788, dtype: object"
      ]
     },
     "execution_count": 111,
     "metadata": {},
     "output_type": "execute_result"
    }
   ],
   "source": [
    "a = corpus.label\n",
    "a"
   ]
  },
  {
   "cell_type": "code",
   "execution_count": 110,
   "metadata": {},
   "outputs": [
    {
     "data": {
      "text/plain": [
       "Index(['said', 'mln', 'net', 'cts', 'dlrs', 'shr', 'year', 'corp', 'u.s.',\n",
       "       'qtr',\n",
       "       ...\n",
       "       'national heritage', 'canadian roxy', 'donners', 'bred', 'andean',\n",
       "       'debt restructuring', 'imputation', 'chiron', 'prebble',\n",
       "       'gas reserves'],\n",
       "      dtype='object', length=25478)"
      ]
     },
     "execution_count": 110,
     "metadata": {},
     "output_type": "execute_result"
    }
   ],
   "source": [
    "b = graphEmbeddings.embeddings.index\n",
    "b"
   ]
  },
  {
   "cell_type": "code",
   "execution_count": 112,
   "metadata": {},
   "outputs": [],
   "source": [
    "def train_test_split(corpus):\n",
    "    # TODO: this is the problem; len(graphIndex) = 0\n",
    "    graphIndex = [index for index in corpus.index if index in graphEmbeddings.embeddings.index]\n",
    "    print(f'len(graphIndex) = {len(graphIndex)}') \n",
    "    train_idx = [idx for idx in graphIndex if \"training/\" in idx]\n",
    "    test_idx = [idx for idx in graphIndex if \"test/\" in idx]\n",
    "    return corpus.loc[train_idx], corpus.loc[test_idx]"
   ]
  },
  {
   "cell_type": "code",
   "execution_count": 113,
   "metadata": {},
   "outputs": [
    {
     "name": "stdout",
     "output_type": "stream",
     "text": [
      "len(graphIndex) = 9034\n"
     ]
    }
   ],
   "source": [
    "train, test = train_test_split(dataset)"
   ]
  },
  {
   "cell_type": "code",
   "execution_count": 114,
   "metadata": {},
   "outputs": [
    {
     "data": {
      "text/html": [
       "<div>\n",
       "<style scoped>\n",
       "    .dataframe tbody tr th:only-of-type {\n",
       "        vertical-align: middle;\n",
       "    }\n",
       "\n",
       "    .dataframe tbody tr th {\n",
       "        vertical-align: top;\n",
       "    }\n",
       "\n",
       "    .dataframe thead th {\n",
       "        text-align: right;\n",
       "    }\n",
       "</style>\n",
       "<table border=\"1\" class=\"dataframe\">\n",
       "  <thead>\n",
       "    <tr style=\"text-align: right;\">\n",
       "      <th></th>\n",
       "      <th>clean_text</th>\n",
       "      <th>label</th>\n",
       "      <th>language</th>\n",
       "      <th>parsed</th>\n",
       "    </tr>\n",
       "    <tr>\n",
       "      <th>id</th>\n",
       "      <th></th>\n",
       "      <th></th>\n",
       "      <th></th>\n",
       "      <th></th>\n",
       "    </tr>\n",
       "  </thead>\n",
       "  <tbody>\n",
       "    <tr>\n",
       "      <th>training/10</th>\n",
       "      <td>COMPUTER TERMINAL SYSTEMS &amp;lt;CPML&gt; COMPLETES ...</td>\n",
       "      <td>[acq]</td>\n",
       "      <td>en</td>\n",
       "      <td>(COMPUTER, TERMINAL, SYSTEMS, &amp;, lt;CPML, &gt;, C...</td>\n",
       "    </tr>\n",
       "    <tr>\n",
       "      <th>training/1000</th>\n",
       "      <td>NATIONAL AMUSEMENTS AGAIN UPS VIACOM &amp;lt;VIA&gt; ...</td>\n",
       "      <td>[acq]</td>\n",
       "      <td>en</td>\n",
       "      <td>(NATIONAL, AMUSEMENTS, AGAIN, UPS, VIACOM, &amp;, ...</td>\n",
       "    </tr>\n",
       "  </tbody>\n",
       "</table>\n",
       "</div>"
      ],
      "text/plain": [
       "                                                      clean_text  label  \\\n",
       "id                                                                        \n",
       "training/10    COMPUTER TERMINAL SYSTEMS &lt;CPML> COMPLETES ...  [acq]   \n",
       "training/1000  NATIONAL AMUSEMENTS AGAIN UPS VIACOM &lt;VIA> ...  [acq]   \n",
       "\n",
       "              language                                             parsed  \n",
       "id                                                                         \n",
       "training/10         en  (COMPUTER, TERMINAL, SYSTEMS, &, lt;CPML, >, C...  \n",
       "training/1000       en  (NATIONAL, AMUSEMENTS, AGAIN, UPS, VIACOM, &, ...  "
      ]
     },
     "execution_count": 114,
     "metadata": {},
     "output_type": "execute_result"
    }
   ],
   "source": [
    "train.head(2)"
   ]
  },
  {
   "cell_type": "markdown",
   "metadata": {},
   "source": [
    "Build the model and cross-validation "
   ]
  },
  {
   "cell_type": "code",
   "execution_count": 115,
   "metadata": {},
   "outputs": [],
   "source": [
    "from sklearn.pipeline import Pipeline\n",
    "from sklearn.ensemble import RandomForestClassifier \n",
    "from sklearn.multioutput import MultiOutputClassifier"
   ]
  },
  {
   "cell_type": "code",
   "execution_count": 116,
   "metadata": {},
   "outputs": [],
   "source": [
    "model = MultiOutputClassifier(RandomForestClassifier())"
   ]
  },
  {
   "cell_type": "code",
   "execution_count": 117,
   "metadata": {},
   "outputs": [],
   "source": [
    "pipeline = Pipeline([\n",
    "    (\"embeddings\", graphEmbeddings),\n",
    "    (\"model\", model)\n",
    "])"
   ]
  },
  {
   "cell_type": "code",
   "execution_count": 118,
   "metadata": {},
   "outputs": [],
   "source": [
    "from sklearn.model_selection import GridSearchCV"
   ]
  },
  {
   "cell_type": "code",
   "execution_count": 119,
   "metadata": {},
   "outputs": [],
   "source": [
    "from sklearn.model_selection import RandomizedSearchCV"
   ]
  },
  {
   "cell_type": "code",
   "execution_count": 120,
   "metadata": {},
   "outputs": [
    {
     "data": {
      "text/plain": [
       "['./embeddings/bipartiteGraphEmbeddings_10_20.p']"
      ]
     },
     "execution_count": 120,
     "metadata": {},
     "output_type": "execute_result"
    }
   ],
   "source": [
    "files"
   ]
  },
  {
   "cell_type": "code",
   "execution_count": 121,
   "metadata": {},
   "outputs": [],
   "source": [
    "param_grid = {\n",
    "    \"embeddings__embeddings_file\": files,\n",
    "    \"model__estimator__n_estimators\": [50, 100], \n",
    "    \"model__estimator__max_features\": [0.2,0.3, \"auto\"], \n",
    "    #\"model__estimator__max_depth\": [3, 5]\n",
    "}"
   ]
  },
  {
   "cell_type": "code",
   "execution_count": 122,
   "metadata": {},
   "outputs": [],
   "source": [
    "features, labels = get_features_and_labels(train)"
   ]
  },
  {
   "cell_type": "code",
   "execution_count": 123,
   "metadata": {},
   "outputs": [],
   "source": [
    "from sklearn.metrics import f1_score "
   ]
  },
  {
   "cell_type": "code",
   "execution_count": 124,
   "metadata": {},
   "outputs": [],
   "source": [
    "grid_search = GridSearchCV(pipeline, param_grid=param_grid, cv=5, n_jobs=-1, \n",
    "                           scoring=lambda y_true, y_pred: f1_score(y_true, y_pred,average='weighted'))"
   ]
  },
  {
   "cell_type": "code",
   "execution_count": 125,
   "metadata": {},
   "outputs": [
    {
     "name": "stderr",
     "output_type": "stream",
     "text": [
      "/Users/chang/.pyenv/versions/3.8.3/lib/python3.8/site-packages/sklearn/model_selection/_validation.py:683: UserWarning: Scoring failed. The score on this train-test partition for these parameters will be set to nan. Details: \n",
      "Traceback (most recent call last):\n",
      "  File \"/Users/chang/.pyenv/versions/3.8.3/lib/python3.8/site-packages/sklearn/model_selection/_validation.py\", line 674, in _score\n",
      "    scores = scorer(estimator, X_test, y_test)\n",
      "TypeError: <lambda>() takes 2 positional arguments but 3 were given\n",
      "\n",
      "  warnings.warn(\n",
      "/Users/chang/.pyenv/versions/3.8.3/lib/python3.8/site-packages/joblib/externals/loky/process_executor.py:688: UserWarning: A worker stopped while some jobs were given to the executor. This can be caused by a too short worker timeout or by a memory leak.\n",
      "  warnings.warn(\n",
      "/Users/chang/.pyenv/versions/3.8.3/lib/python3.8/site-packages/sklearn/model_selection/_validation.py:683: UserWarning: Scoring failed. The score on this train-test partition for these parameters will be set to nan. Details: \n",
      "Traceback (most recent call last):\n",
      "  File \"/Users/chang/.pyenv/versions/3.8.3/lib/python3.8/site-packages/sklearn/model_selection/_validation.py\", line 674, in _score\n",
      "    scores = scorer(estimator, X_test, y_test)\n",
      "TypeError: <lambda>() takes 2 positional arguments but 3 were given\n",
      "\n",
      "  warnings.warn(\n",
      "/Users/chang/.pyenv/versions/3.8.3/lib/python3.8/site-packages/sklearn/model_selection/_validation.py:683: UserWarning: Scoring failed. The score on this train-test partition for these parameters will be set to nan. Details: \n",
      "Traceback (most recent call last):\n",
      "  File \"/Users/chang/.pyenv/versions/3.8.3/lib/python3.8/site-packages/sklearn/model_selection/_validation.py\", line 674, in _score\n",
      "    scores = scorer(estimator, X_test, y_test)\n",
      "TypeError: <lambda>() takes 2 positional arguments but 3 were given\n",
      "\n",
      "  warnings.warn(\n",
      "/Users/chang/.pyenv/versions/3.8.3/lib/python3.8/site-packages/sklearn/model_selection/_validation.py:683: UserWarning: Scoring failed. The score on this train-test partition for these parameters will be set to nan. Details: \n",
      "Traceback (most recent call last):\n",
      "  File \"/Users/chang/.pyenv/versions/3.8.3/lib/python3.8/site-packages/sklearn/model_selection/_validation.py\", line 674, in _score\n",
      "    scores = scorer(estimator, X_test, y_test)\n",
      "TypeError: <lambda>() takes 2 positional arguments but 3 were given\n",
      "\n",
      "  warnings.warn(\n",
      "/Users/chang/.pyenv/versions/3.8.3/lib/python3.8/site-packages/sklearn/model_selection/_validation.py:683: UserWarning: Scoring failed. The score on this train-test partition for these parameters will be set to nan. Details: \n",
      "Traceback (most recent call last):\n",
      "  File \"/Users/chang/.pyenv/versions/3.8.3/lib/python3.8/site-packages/sklearn/model_selection/_validation.py\", line 674, in _score\n",
      "    scores = scorer(estimator, X_test, y_test)\n",
      "TypeError: <lambda>() takes 2 positional arguments but 3 were given\n",
      "\n",
      "  warnings.warn(\n",
      "/Users/chang/.pyenv/versions/3.8.3/lib/python3.8/site-packages/sklearn/model_selection/_validation.py:683: UserWarning: Scoring failed. The score on this train-test partition for these parameters will be set to nan. Details: \n",
      "Traceback (most recent call last):\n",
      "  File \"/Users/chang/.pyenv/versions/3.8.3/lib/python3.8/site-packages/sklearn/model_selection/_validation.py\", line 674, in _score\n",
      "    scores = scorer(estimator, X_test, y_test)\n",
      "TypeError: <lambda>() takes 2 positional arguments but 3 were given\n",
      "\n",
      "  warnings.warn(\n",
      "/Users/chang/.pyenv/versions/3.8.3/lib/python3.8/site-packages/sklearn/model_selection/_validation.py:683: UserWarning: Scoring failed. The score on this train-test partition for these parameters will be set to nan. Details: \n",
      "Traceback (most recent call last):\n",
      "  File \"/Users/chang/.pyenv/versions/3.8.3/lib/python3.8/site-packages/sklearn/model_selection/_validation.py\", line 674, in _score\n",
      "    scores = scorer(estimator, X_test, y_test)\n",
      "TypeError: <lambda>() takes 2 positional arguments but 3 were given\n",
      "\n",
      "  warnings.warn(\n",
      "/Users/chang/.pyenv/versions/3.8.3/lib/python3.8/site-packages/sklearn/model_selection/_validation.py:683: UserWarning: Scoring failed. The score on this train-test partition for these parameters will be set to nan. Details: \n",
      "Traceback (most recent call last):\n",
      "  File \"/Users/chang/.pyenv/versions/3.8.3/lib/python3.8/site-packages/sklearn/model_selection/_validation.py\", line 674, in _score\n",
      "    scores = scorer(estimator, X_test, y_test)\n",
      "TypeError: <lambda>() takes 2 positional arguments but 3 were given\n",
      "\n",
      "  warnings.warn(\n",
      "/Users/chang/.pyenv/versions/3.8.3/lib/python3.8/site-packages/sklearn/model_selection/_validation.py:683: UserWarning: Scoring failed. The score on this train-test partition for these parameters will be set to nan. Details: \n",
      "Traceback (most recent call last):\n",
      "  File \"/Users/chang/.pyenv/versions/3.8.3/lib/python3.8/site-packages/sklearn/model_selection/_validation.py\", line 674, in _score\n",
      "    scores = scorer(estimator, X_test, y_test)\n",
      "TypeError: <lambda>() takes 2 positional arguments but 3 were given\n",
      "\n",
      "  warnings.warn(\n",
      "/Users/chang/.pyenv/versions/3.8.3/lib/python3.8/site-packages/sklearn/model_selection/_validation.py:683: UserWarning: Scoring failed. The score on this train-test partition for these parameters will be set to nan. Details: \n",
      "Traceback (most recent call last):\n",
      "  File \"/Users/chang/.pyenv/versions/3.8.3/lib/python3.8/site-packages/sklearn/model_selection/_validation.py\", line 674, in _score\n",
      "    scores = scorer(estimator, X_test, y_test)\n",
      "TypeError: <lambda>() takes 2 positional arguments but 3 were given\n",
      "\n",
      "  warnings.warn(\n",
      "/Users/chang/.pyenv/versions/3.8.3/lib/python3.8/site-packages/sklearn/model_selection/_validation.py:683: UserWarning: Scoring failed. The score on this train-test partition for these parameters will be set to nan. Details: \n",
      "Traceback (most recent call last):\n",
      "  File \"/Users/chang/.pyenv/versions/3.8.3/lib/python3.8/site-packages/sklearn/model_selection/_validation.py\", line 674, in _score\n",
      "    scores = scorer(estimator, X_test, y_test)\n",
      "TypeError: <lambda>() takes 2 positional arguments but 3 were given\n",
      "\n",
      "  warnings.warn(\n",
      "/Users/chang/.pyenv/versions/3.8.3/lib/python3.8/site-packages/sklearn/model_selection/_validation.py:683: UserWarning: Scoring failed. The score on this train-test partition for these parameters will be set to nan. Details: \n",
      "Traceback (most recent call last):\n",
      "  File \"/Users/chang/.pyenv/versions/3.8.3/lib/python3.8/site-packages/sklearn/model_selection/_validation.py\", line 674, in _score\n",
      "    scores = scorer(estimator, X_test, y_test)\n",
      "TypeError: <lambda>() takes 2 positional arguments but 3 were given\n",
      "\n",
      "  warnings.warn(\n",
      "/Users/chang/.pyenv/versions/3.8.3/lib/python3.8/site-packages/sklearn/model_selection/_validation.py:683: UserWarning: Scoring failed. The score on this train-test partition for these parameters will be set to nan. Details: \n",
      "Traceback (most recent call last):\n",
      "  File \"/Users/chang/.pyenv/versions/3.8.3/lib/python3.8/site-packages/sklearn/model_selection/_validation.py\", line 674, in _score\n",
      "    scores = scorer(estimator, X_test, y_test)\n",
      "TypeError: <lambda>() takes 2 positional arguments but 3 were given\n",
      "\n",
      "  warnings.warn(\n",
      "/Users/chang/.pyenv/versions/3.8.3/lib/python3.8/site-packages/sklearn/model_selection/_validation.py:683: UserWarning: Scoring failed. The score on this train-test partition for these parameters will be set to nan. Details: \n",
      "Traceback (most recent call last):\n",
      "  File \"/Users/chang/.pyenv/versions/3.8.3/lib/python3.8/site-packages/sklearn/model_selection/_validation.py\", line 674, in _score\n",
      "    scores = scorer(estimator, X_test, y_test)\n",
      "TypeError: <lambda>() takes 2 positional arguments but 3 were given\n",
      "\n",
      "  warnings.warn(\n",
      "/Users/chang/.pyenv/versions/3.8.3/lib/python3.8/site-packages/sklearn/model_selection/_validation.py:683: UserWarning: Scoring failed. The score on this train-test partition for these parameters will be set to nan. Details: \n",
      "Traceback (most recent call last):\n",
      "  File \"/Users/chang/.pyenv/versions/3.8.3/lib/python3.8/site-packages/sklearn/model_selection/_validation.py\", line 674, in _score\n",
      "    scores = scorer(estimator, X_test, y_test)\n",
      "TypeError: <lambda>() takes 2 positional arguments but 3 were given\n",
      "\n",
      "  warnings.warn(\n",
      "/Users/chang/.pyenv/versions/3.8.3/lib/python3.8/site-packages/sklearn/model_selection/_validation.py:683: UserWarning: Scoring failed. The score on this train-test partition for these parameters will be set to nan. Details: \n",
      "Traceback (most recent call last):\n",
      "  File \"/Users/chang/.pyenv/versions/3.8.3/lib/python3.8/site-packages/sklearn/model_selection/_validation.py\", line 674, in _score\n",
      "    scores = scorer(estimator, X_test, y_test)\n",
      "TypeError: <lambda>() takes 2 positional arguments but 3 were given\n",
      "\n",
      "  warnings.warn(\n",
      "/Users/chang/.pyenv/versions/3.8.3/lib/python3.8/site-packages/sklearn/model_selection/_validation.py:683: UserWarning: Scoring failed. The score on this train-test partition for these parameters will be set to nan. Details: \n",
      "Traceback (most recent call last):\n",
      "  File \"/Users/chang/.pyenv/versions/3.8.3/lib/python3.8/site-packages/sklearn/model_selection/_validation.py\", line 674, in _score\n",
      "    scores = scorer(estimator, X_test, y_test)\n",
      "TypeError: <lambda>() takes 2 positional arguments but 3 were given\n",
      "\n",
      "  warnings.warn(\n",
      "/Users/chang/.pyenv/versions/3.8.3/lib/python3.8/site-packages/sklearn/model_selection/_validation.py:683: UserWarning: Scoring failed. The score on this train-test partition for these parameters will be set to nan. Details: \n",
      "Traceback (most recent call last):\n",
      "  File \"/Users/chang/.pyenv/versions/3.8.3/lib/python3.8/site-packages/sklearn/model_selection/_validation.py\", line 674, in _score\n",
      "    scores = scorer(estimator, X_test, y_test)\n",
      "TypeError: <lambda>() takes 2 positional arguments but 3 were given\n",
      "\n",
      "  warnings.warn(\n"
     ]
    },
    {
     "name": "stderr",
     "output_type": "stream",
     "text": [
      "/Users/chang/.pyenv/versions/3.8.3/lib/python3.8/site-packages/sklearn/model_selection/_validation.py:683: UserWarning: Scoring failed. The score on this train-test partition for these parameters will be set to nan. Details: \n",
      "Traceback (most recent call last):\n",
      "  File \"/Users/chang/.pyenv/versions/3.8.3/lib/python3.8/site-packages/sklearn/model_selection/_validation.py\", line 674, in _score\n",
      "    scores = scorer(estimator, X_test, y_test)\n",
      "TypeError: <lambda>() takes 2 positional arguments but 3 were given\n",
      "\n",
      "  warnings.warn(\n",
      "/Users/chang/.pyenv/versions/3.8.3/lib/python3.8/site-packages/sklearn/model_selection/_validation.py:683: UserWarning: Scoring failed. The score on this train-test partition for these parameters will be set to nan. Details: \n",
      "Traceback (most recent call last):\n",
      "  File \"/Users/chang/.pyenv/versions/3.8.3/lib/python3.8/site-packages/sklearn/model_selection/_validation.py\", line 674, in _score\n",
      "    scores = scorer(estimator, X_test, y_test)\n",
      "TypeError: <lambda>() takes 2 positional arguments but 3 were given\n",
      "\n",
      "  warnings.warn(\n",
      "/Users/chang/.pyenv/versions/3.8.3/lib/python3.8/site-packages/sklearn/model_selection/_validation.py:683: UserWarning: Scoring failed. The score on this train-test partition for these parameters will be set to nan. Details: \n",
      "Traceback (most recent call last):\n",
      "  File \"/Users/chang/.pyenv/versions/3.8.3/lib/python3.8/site-packages/sklearn/model_selection/_validation.py\", line 674, in _score\n",
      "    scores = scorer(estimator, X_test, y_test)\n",
      "TypeError: <lambda>() takes 2 positional arguments but 3 were given\n",
      "\n",
      "  warnings.warn(\n",
      "/Users/chang/.pyenv/versions/3.8.3/lib/python3.8/site-packages/sklearn/model_selection/_validation.py:683: UserWarning: Scoring failed. The score on this train-test partition for these parameters will be set to nan. Details: \n",
      "Traceback (most recent call last):\n",
      "  File \"/Users/chang/.pyenv/versions/3.8.3/lib/python3.8/site-packages/sklearn/model_selection/_validation.py\", line 674, in _score\n",
      "    scores = scorer(estimator, X_test, y_test)\n",
      "TypeError: <lambda>() takes 2 positional arguments but 3 were given\n",
      "\n",
      "  warnings.warn(\n",
      "/Users/chang/.pyenv/versions/3.8.3/lib/python3.8/site-packages/sklearn/model_selection/_validation.py:683: UserWarning: Scoring failed. The score on this train-test partition for these parameters will be set to nan. Details: \n",
      "Traceback (most recent call last):\n",
      "  File \"/Users/chang/.pyenv/versions/3.8.3/lib/python3.8/site-packages/sklearn/model_selection/_validation.py\", line 674, in _score\n",
      "    scores = scorer(estimator, X_test, y_test)\n",
      "TypeError: <lambda>() takes 2 positional arguments but 3 were given\n",
      "\n",
      "  warnings.warn(\n",
      "/Users/chang/.pyenv/versions/3.8.3/lib/python3.8/site-packages/sklearn/model_selection/_validation.py:683: UserWarning: Scoring failed. The score on this train-test partition for these parameters will be set to nan. Details: \n",
      "Traceback (most recent call last):\n",
      "  File \"/Users/chang/.pyenv/versions/3.8.3/lib/python3.8/site-packages/sklearn/model_selection/_validation.py\", line 674, in _score\n",
      "    scores = scorer(estimator, X_test, y_test)\n",
      "TypeError: <lambda>() takes 2 positional arguments but 3 were given\n",
      "\n",
      "  warnings.warn(\n",
      "/Users/chang/.pyenv/versions/3.8.3/lib/python3.8/site-packages/sklearn/model_selection/_validation.py:683: UserWarning: Scoring failed. The score on this train-test partition for these parameters will be set to nan. Details: \n",
      "Traceback (most recent call last):\n",
      "  File \"/Users/chang/.pyenv/versions/3.8.3/lib/python3.8/site-packages/sklearn/model_selection/_validation.py\", line 674, in _score\n",
      "    scores = scorer(estimator, X_test, y_test)\n",
      "TypeError: <lambda>() takes 2 positional arguments but 3 were given\n",
      "\n",
      "  warnings.warn(\n",
      "/Users/chang/.pyenv/versions/3.8.3/lib/python3.8/site-packages/sklearn/model_selection/_validation.py:683: UserWarning: Scoring failed. The score on this train-test partition for these parameters will be set to nan. Details: \n",
      "Traceback (most recent call last):\n",
      "  File \"/Users/chang/.pyenv/versions/3.8.3/lib/python3.8/site-packages/sklearn/model_selection/_validation.py\", line 674, in _score\n",
      "    scores = scorer(estimator, X_test, y_test)\n",
      "TypeError: <lambda>() takes 2 positional arguments but 3 were given\n",
      "\n",
      "  warnings.warn(\n",
      "/Users/chang/.pyenv/versions/3.8.3/lib/python3.8/site-packages/sklearn/model_selection/_validation.py:683: UserWarning: Scoring failed. The score on this train-test partition for these parameters will be set to nan. Details: \n",
      "Traceback (most recent call last):\n",
      "  File \"/Users/chang/.pyenv/versions/3.8.3/lib/python3.8/site-packages/sklearn/model_selection/_validation.py\", line 674, in _score\n",
      "    scores = scorer(estimator, X_test, y_test)\n",
      "TypeError: <lambda>() takes 2 positional arguments but 3 were given\n",
      "\n",
      "  warnings.warn(\n",
      "/Users/chang/.pyenv/versions/3.8.3/lib/python3.8/site-packages/sklearn/model_selection/_validation.py:683: UserWarning: Scoring failed. The score on this train-test partition for these parameters will be set to nan. Details: \n",
      "Traceback (most recent call last):\n",
      "  File \"/Users/chang/.pyenv/versions/3.8.3/lib/python3.8/site-packages/sklearn/model_selection/_validation.py\", line 674, in _score\n",
      "    scores = scorer(estimator, X_test, y_test)\n",
      "TypeError: <lambda>() takes 2 positional arguments but 3 were given\n",
      "\n",
      "  warnings.warn(\n",
      "/Users/chang/.pyenv/versions/3.8.3/lib/python3.8/site-packages/sklearn/model_selection/_validation.py:683: UserWarning: Scoring failed. The score on this train-test partition for these parameters will be set to nan. Details: \n",
      "Traceback (most recent call last):\n",
      "  File \"/Users/chang/.pyenv/versions/3.8.3/lib/python3.8/site-packages/sklearn/model_selection/_validation.py\", line 674, in _score\n",
      "    scores = scorer(estimator, X_test, y_test)\n",
      "TypeError: <lambda>() takes 2 positional arguments but 3 were given\n",
      "\n",
      "  warnings.warn(\n",
      "/Users/chang/.pyenv/versions/3.8.3/lib/python3.8/site-packages/sklearn/model_selection/_search.py:918: UserWarning: One or more of the test scores are non-finite: [nan nan nan nan nan nan]\n",
      "  warnings.warn(\n"
     ]
    }
   ],
   "source": [
    "model = grid_search.fit(features, labels)"
   ]
  },
  {
   "cell_type": "code",
   "execution_count": 126,
   "metadata": {},
   "outputs": [
    {
     "data": {
      "text/plain": [
       "GridSearchCV(cv=5,\n",
       "             estimator=Pipeline(steps=[('embeddings',\n",
       "                                        EmbeddingsTransformer(embeddings_file='./embeddings/bipartiteGraphEmbeddings_10_20.p')),\n",
       "                                       ('model',\n",
       "                                        MultiOutputClassifier(estimator=RandomForestClassifier()))]),\n",
       "             n_jobs=-1,\n",
       "             param_grid={'embeddings__embeddings_file': ['./embeddings/bipartiteGraphEmbeddings_10_20.p'],\n",
       "                         'model__estimator__max_features': [0.2, 0.3, 'auto'],\n",
       "                         'model__estimator__n_estimators': [50, 100]},\n",
       "             scoring=<function <lambda> at 0x1b0529c10>)"
      ]
     },
     "execution_count": 126,
     "metadata": {},
     "output_type": "execute_result"
    }
   ],
   "source": [
    "model"
   ]
  },
  {
   "cell_type": "code",
   "execution_count": 127,
   "metadata": {},
   "outputs": [
    {
     "data": {
      "text/plain": [
       "{'embeddings__embeddings_file': './embeddings/bipartiteGraphEmbeddings_10_20.p',\n",
       " 'model__estimator__max_features': 0.2,\n",
       " 'model__estimator__n_estimators': 50}"
      ]
     },
     "execution_count": 127,
     "metadata": {},
     "output_type": "execute_result"
    }
   ],
   "source": [
    "model.best_params_"
   ]
  },
  {
   "cell_type": "markdown",
   "metadata": {},
   "source": [
    "Evaluate performance "
   ]
  },
  {
   "cell_type": "code",
   "execution_count": 128,
   "metadata": {},
   "outputs": [],
   "source": [
    "def get_predictions(model, features):\n",
    "    return pd.DataFrame(\n",
    "        model.predict(features), \n",
    "        columns=topicsList, \n",
    "        index=features.index\n",
    "    )"
   ]
  },
  {
   "cell_type": "code",
   "execution_count": 129,
   "metadata": {},
   "outputs": [],
   "source": [
    "preds = get_predictions(model, get_features(test))\n",
    "labels = get_labels(test)"
   ]
  },
  {
   "cell_type": "code",
   "execution_count": 130,
   "metadata": {},
   "outputs": [],
   "source": [
    "errors = 1 - (labels - preds).abs().sum().sum() / labels.abs().sum().sum()"
   ]
  },
  {
   "cell_type": "code",
   "execution_count": 131,
   "metadata": {},
   "outputs": [
    {
     "data": {
      "text/plain": [
       "0.7161822748475063"
      ]
     },
     "execution_count": 131,
     "metadata": {},
     "output_type": "execute_result"
    }
   ],
   "source": [
    "errors"
   ]
  },
  {
   "cell_type": "code",
   "execution_count": 132,
   "metadata": {},
   "outputs": [],
   "source": [
    "from sklearn.metrics import classification_report"
   ]
  },
  {
   "cell_type": "code",
   "execution_count": 133,
   "metadata": {},
   "outputs": [
    {
     "name": "stdout",
     "output_type": "stream",
     "text": [
      "              precision    recall  f1-score   support\n",
      "\n",
      "           0       0.97      0.93      0.95      1087\n",
      "           1       0.94      0.85      0.90       719\n",
      "           2       0.78      0.61      0.69       179\n",
      "           3       0.95      0.75      0.84       149\n",
      "           4       0.92      0.70      0.80       189\n",
      "           5       0.88      0.45      0.60       117\n",
      "           6       0.89      0.43      0.58       131\n",
      "           7       0.90      0.31      0.47        89\n",
      "           8       0.74      0.41      0.53        71\n",
      "           9       0.50      0.18      0.26        56\n",
      "\n",
      "   micro avg       0.93      0.77      0.84      2787\n",
      "   macro avg       0.85      0.56      0.66      2787\n",
      "weighted avg       0.92      0.77      0.83      2787\n",
      " samples avg       0.81      0.80      0.80      2787\n",
      "\n"
     ]
    },
    {
     "name": "stderr",
     "output_type": "stream",
     "text": [
      "/Users/chang/.pyenv/versions/3.8.3/lib/python3.8/site-packages/sklearn/metrics/_classification.py:1245: UndefinedMetricWarning: Precision and F-score are ill-defined and being set to 0.0 in samples with no predicted labels. Use `zero_division` parameter to control this behavior.\n",
      "  _warn_prf(average, modifier, msg_start, len(result))\n",
      "/Users/chang/.pyenv/versions/3.8.3/lib/python3.8/site-packages/sklearn/model_selection/_validation.py:683: UserWarning: Scoring failed. The score on this train-test partition for these parameters will be set to nan. Details: \n",
      "Traceback (most recent call last):\n",
      "  File \"/Users/chang/.pyenv/versions/3.8.3/lib/python3.8/site-packages/sklearn/model_selection/_validation.py\", line 674, in _score\n",
      "    scores = scorer(estimator, X_test, y_test)\n",
      "TypeError: <lambda>() takes 2 positional arguments but 3 were given\n",
      "\n",
      "  warnings.warn(\n"
     ]
    }
   ],
   "source": [
    "print(classification_report(labels, preds))"
   ]
  },
  {
   "cell_type": "code",
   "execution_count": null,
   "metadata": {},
   "outputs": [],
   "source": []
  }
 ],
 "metadata": {
  "kernelspec": {
   "display_name": "graph-ml",
   "language": "python",
   "name": "graph-ml"
  },
  "language_info": {
   "codemirror_mode": {
    "name": "ipython",
    "version": 3
   },
   "file_extension": ".py",
   "mimetype": "text/x-python",
   "name": "python",
   "nbconvert_exporter": "python",
   "pygments_lexer": "ipython3",
   "version": "3.8.3"
  }
 },
 "nbformat": 4,
 "nbformat_minor": 4
}
