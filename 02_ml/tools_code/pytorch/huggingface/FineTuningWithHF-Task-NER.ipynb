{
 "cells": [
  {
   "cell_type": "markdown",
   "id": "8ebe0f06",
   "metadata": {},
   "source": [
    "# Overview\n",
    "- Based on https://huggingface.co/transformers/custom_datasets.html\n"
   ]
  },
  {
   "cell_type": "code",
   "execution_count": 1,
   "id": "72e45591",
   "metadata": {},
   "outputs": [
    {
     "name": "stdout",
     "output_type": "stream",
     "text": [
      "/Users/thchang/Documents/dev/git/nlp/pytorch-hf\r\n"
     ]
    }
   ],
   "source": [
    "!pwd"
   ]
  },
  {
   "cell_type": "markdown",
   "id": "dd8a081f",
   "metadata": {},
   "source": [
    "# Step1: Read Raw Data\n",
    "- Data in CONLL format\n",
    "    * https://stackoverflow.com/questions/27416164/what-is-conll-data-format"
   ]
  },
  {
   "cell_type": "code",
   "execution_count": 3,
   "id": "bbf0cae1",
   "metadata": {},
   "outputs": [
    {
     "name": "stdout",
     "output_type": "stream",
     "text": [
      "wnut17train.conll\r\n"
     ]
    }
   ],
   "source": [
    "!ls /Users/thchang/Documents/dev/git/nlp/pytorch-hf/data/ner"
   ]
  },
  {
   "cell_type": "code",
   "execution_count": 9,
   "id": "db534bfd",
   "metadata": {},
   "outputs": [
    {
     "name": "stdout",
     "output_type": "stream",
     "text": [
      "3394 3394\n",
      "['for', 'two', 'weeks', '.', 'Empire', 'State', 'Building', '=']\n",
      "['O', 'O', 'O', 'O', 'B-location', 'I-location', 'I-location', 'O']\n"
     ]
    }
   ],
   "source": [
    "data_dir = '/Users/thchang/Documents/dev/git/nlp/pytorch-hf/data/ner'\n",
    "from pathlib import Path\n",
    "import re\n",
    "\n",
    "def read_wnut(file_path):\n",
    "    file_path = Path(file_path)\n",
    "\n",
    "    raw_text = file_path.read_text().strip()\n",
    "    raw_docs = re.split(r'\\n\\t?\\n', raw_text)\n",
    "    token_docs = []\n",
    "    tag_docs = []\n",
    "    for doc in raw_docs:\n",
    "        tokens = []\n",
    "        tags = []\n",
    "        for line in doc.split('\\n'):\n",
    "            token, tag = line.split('\\t')\n",
    "            tokens.append(token)\n",
    "            tags.append(tag)\n",
    "        token_docs.append(tokens)\n",
    "        tag_docs.append(tags)\n",
    "\n",
    "    return token_docs, tag_docs\n",
    "\n",
    "texts, tags = read_wnut(f'{data_dir}/wnut17train.conll')\n",
    "\n",
    "print(len(texts), len(tags))\n",
    "print(texts[0][10:18], tags[0][10:18], sep='\\n')"
   ]
  },
  {
   "cell_type": "markdown",
   "id": "95da626f",
   "metadata": {},
   "source": [
    "### Split Training into Training and Validation"
   ]
  },
  {
   "cell_type": "code",
   "execution_count": 10,
   "id": "866f20d6",
   "metadata": {},
   "outputs": [],
   "source": [
    "from sklearn.model_selection import train_test_split\n",
    "train_texts, val_texts, train_tags, val_tags = train_test_split(texts, tags, test_size=.2)\n"
   ]
  },
  {
   "cell_type": "markdown",
   "id": "a196bddf",
   "metadata": {},
   "source": [
    "### Create Corpus Metadata"
   ]
  },
  {
   "cell_type": "code",
   "execution_count": 13,
   "id": "51cda102",
   "metadata": {},
   "outputs": [
    {
     "name": "stdout",
     "output_type": "stream",
     "text": [
      "13 : {'I-person', 'B-group', 'O', 'B-person', 'I-creative-work', 'B-creative-work', 'B-product', 'I-group', 'I-product', 'I-location', 'B-corporation', 'B-location', 'I-corporation'}\n"
     ]
    }
   ],
   "source": [
    "unique_tags = set(tag for doc in tags for tag in doc)\n",
    "print(len(unique_tags), \":\", unique_tags)\n",
    "\n",
    "tag2id = {tag: id for id, tag in enumerate(unique_tags)}\n",
    "id2tag = {id: tag for tag, id in tag2id.items()}\n"
   ]
  },
  {
   "cell_type": "markdown",
   "id": "d372b0a1",
   "metadata": {},
   "source": [
    "### Preprocessing\n",
    "- For tokens"
   ]
  },
  {
   "cell_type": "markdown",
   "id": "302b1ad6",
   "metadata": {},
   "source": [
    "# Step2: Create Torch Dataset"
   ]
  },
  {
   "cell_type": "markdown",
   "id": "e066d5ab",
   "metadata": {},
   "source": [
    "### Apply HF Tokenizer\n",
    "- Tell tokenizer that our texts have already been split into tokens with is_split_into_words=True\n",
    "- Pad sequences to the same length"
   ]
  },
  {
   "cell_type": "code",
   "execution_count": 14,
   "id": "751eb1c4",
   "metadata": {},
   "outputs": [
    {
     "data": {
      "application/vnd.jupyter.widget-view+json": {
       "model_id": "8215aadf8a084b7cabc9fdba6e223763",
       "version_major": 2,
       "version_minor": 0
      },
      "text/plain": [
       "Downloading:   0%|          | 0.00/208k [00:00<?, ?B/s]"
      ]
     },
     "metadata": {},
     "output_type": "display_data"
    },
    {
     "data": {
      "application/vnd.jupyter.widget-view+json": {
       "model_id": "a24a5d15eec340b098241f4f9ddc7c5e",
       "version_major": 2,
       "version_minor": 0
      },
      "text/plain": [
       "Downloading:   0%|          | 0.00/426k [00:00<?, ?B/s]"
      ]
     },
     "metadata": {},
     "output_type": "display_data"
    },
    {
     "data": {
      "application/vnd.jupyter.widget-view+json": {
       "model_id": "fc76c442b0f0408197515f54489f6a3b",
       "version_major": 2,
       "version_minor": 0
      },
      "text/plain": [
       "Downloading:   0%|          | 0.00/29.0 [00:00<?, ?B/s]"
      ]
     },
     "metadata": {},
     "output_type": "display_data"
    },
    {
     "data": {
      "application/vnd.jupyter.widget-view+json": {
       "model_id": "398a581c6e244117985f40ec16f96518",
       "version_major": 2,
       "version_minor": 0
      },
      "text/plain": [
       "Downloading:   0%|          | 0.00/411 [00:00<?, ?B/s]"
      ]
     },
     "metadata": {},
     "output_type": "display_data"
    }
   ],
   "source": [
    "from transformers import DistilBertTokenizerFast\n",
    "tokenizer = DistilBertTokenizerFast.from_pretrained('distilbert-base-cased')\n",
    "train_encodings = tokenizer(train_texts, is_split_into_words=True, return_offsets_mapping=True, padding=True, truncation=True)\n",
    "val_encodings = tokenizer(val_texts, is_split_into_words=True, return_offsets_mapping=True, padding=True, truncation=True)\n"
   ]
  },
  {
   "cell_type": "markdown",
   "id": "5a3e8b2a",
   "metadata": {},
   "source": [
    "### Preprocessing\n",
    "- Many of our NER tokens is not part of the HF tokenzier vocabulary\n",
    "- Bert models and tokenizer which WordPiece breaks a word into multiple tokens\n",
    "    * @huggingFace -> ['@', 'hugging', '###face']\n",
    "    * This will cause a mismatch between our label and tokens\n",
    "- Solution: Train only on the first token of multiple subtokens\n",
    "    * Example: , if the label for @HuggingFace is 3 (indexing B-corporation), we would set the labels of ['@', 'hugging', '##face'] to [3, -100, -100].\n",
    "        "
   ]
  },
  {
   "cell_type": "code",
   "execution_count": 16,
   "id": "7231a325",
   "metadata": {},
   "outputs": [],
   "source": [
    "import numpy as np\n",
    "\n",
    "def encode_tags(tags, encodings):\n",
    "    labels = [[tag2id[tag] for tag in doc] for doc in tags]\n",
    "    encoded_labels = []\n",
    "    for doc_labels, doc_offset in zip(labels, encodings.offset_mapping):\n",
    "        # create an empty array of -100\n",
    "        doc_enc_labels = np.ones(len(doc_offset),dtype=int) * -100\n",
    "        arr_offset = np.array(doc_offset)\n",
    "\n",
    "        # set labels whose first offset position is 0 and the second is not 0\n",
    "        doc_enc_labels[(arr_offset[:,0] == 0) & (arr_offset[:,1] != 0)] = doc_labels\n",
    "        encoded_labels.append(doc_enc_labels.tolist())\n",
    "\n",
    "    return encoded_labels\n",
    "\n",
    "train_labels = encode_tags(train_tags, train_encodings)\n",
    "val_labels = encode_tags(val_tags, val_encodings)\n"
   ]
  },
  {
   "cell_type": "markdown",
   "id": "3f556262",
   "metadata": {},
   "source": [
    "### Torch Dataset"
   ]
  },
  {
   "cell_type": "code",
   "execution_count": 17,
   "id": "7240abd8",
   "metadata": {},
   "outputs": [],
   "source": [
    "import torch\n",
    "\n",
    "class WNUTDataset(torch.utils.data.Dataset):\n",
    "    def __init__(self, encodings, labels):\n",
    "        self.encodings = encodings\n",
    "        self.labels = labels\n",
    "\n",
    "    def __getitem__(self, idx):\n",
    "        item = {key: torch.tensor(val[idx]) for key, val in self.encodings.items()}\n",
    "        item['labels'] = torch.tensor(self.labels[idx])\n",
    "        return item\n",
    "\n",
    "    def __len__(self):\n",
    "        return len(self.labels)\n",
    "\n",
    "train_encodings.pop(\"offset_mapping\") # we don't want to pass this to the model\n",
    "val_encodings.pop(\"offset_mapping\")\n",
    "train_dataset = WNUTDataset(train_encodings, train_labels)\n",
    "val_dataset = WNUTDataset(val_encodings, val_labels)"
   ]
  },
  {
   "cell_type": "markdown",
   "id": "433b6165",
   "metadata": {},
   "source": [
    "### Step3: Fine Tune"
   ]
  },
  {
   "cell_type": "code",
   "execution_count": 18,
   "id": "334eb0b0",
   "metadata": {},
   "outputs": [
    {
     "data": {
      "application/vnd.jupyter.widget-view+json": {
       "model_id": "7ea3bf64d0624bdd8a8449b270555a03",
       "version_major": 2,
       "version_minor": 0
      },
      "text/plain": [
       "Downloading:   0%|          | 0.00/251M [00:00<?, ?B/s]"
      ]
     },
     "metadata": {},
     "output_type": "display_data"
    },
    {
     "name": "stderr",
     "output_type": "stream",
     "text": [
      "Some weights of the model checkpoint at distilbert-base-cased were not used when initializing DistilBertForTokenClassification: ['vocab_projector.weight', 'vocab_layer_norm.weight', 'vocab_transform.bias', 'vocab_layer_norm.bias', 'vocab_projector.bias', 'vocab_transform.weight']\n",
      "- This IS expected if you are initializing DistilBertForTokenClassification from the checkpoint of a model trained on another task or with another architecture (e.g. initializing a BertForSequenceClassification model from a BertForPreTraining model).\n",
      "- This IS NOT expected if you are initializing DistilBertForTokenClassification from the checkpoint of a model that you expect to be exactly identical (initializing a BertForSequenceClassification model from a BertForSequenceClassification model).\n",
      "Some weights of DistilBertForTokenClassification were not initialized from the model checkpoint at distilbert-base-cased and are newly initialized: ['classifier.bias', 'classifier.weight']\n",
      "You should probably TRAIN this model on a down-stream task to be able to use it for predictions and inference.\n"
     ]
    }
   ],
   "source": [
    "from transformers import DistilBertForTokenClassification\n",
    "model = DistilBertForTokenClassification.from_pretrained('distilbert-base-cased', num_labels=len(unique_tags))\n"
   ]
  },
  {
   "cell_type": "markdown",
   "id": "4cbe6ae9",
   "metadata": {},
   "source": [
    "### Via HuggingFace"
   ]
  },
  {
   "cell_type": "code",
   "execution_count": null,
   "id": "be0222f2",
   "metadata": {},
   "outputs": [],
   "source": [
    "from transformers import DistilBertForTokenClassification, Trainer, TrainingArguments\n",
    "\n",
    "training_args = TrainingArguments(\n",
    "    output_dir='./results',          # output directory\n",
    "    num_train_epochs=0.1,              # total number of training epochs; 3\n",
    "    per_device_train_batch_size=16,  # batch size per device during training\n",
    "    per_device_eval_batch_size=64,   # batch size for evaluation\n",
    "    warmup_steps=10,                # number of warmup steps for learning rate scheduler 100\n",
    "    weight_decay=0.01,               # strength of weight decay\n",
    "    logging_dir='./logs',            # directory for storing logs\n",
    "    logging_steps=100,\n",
    ")\n",
    "\n",
    "model = DistilBertForTokenClassification.from_pretrained('distilbert-base-cased', num_labels=len(unique_tags))\n",
    "# Before for Sequencec Classification\n",
    "# model = DistilBertForSequenceClassification.from_pretrained(\"distilbert-base-uncased\")\n",
    "\n",
    "trainer = Trainer(\n",
    "    model=model,                         # the instantiated 🤗 Transformers model to be trained\n",
    "    args=training_args,                  # training arguments, defined above\n",
    "    train_dataset=train_dataset,         # training dataset\n",
    "    eval_dataset=val_dataset             # evaluation dataset\n",
    ")\n",
    "\n",
    "trainer.train()"
   ]
  },
  {
   "cell_type": "markdown",
   "id": "686bdb96",
   "metadata": {},
   "source": [
    "### Via Torch"
   ]
  },
  {
   "cell_type": "code",
   "execution_count": null,
   "id": "86c05677",
   "metadata": {},
   "outputs": [],
   "source": [
    "from torch.utils.data import DataLoader\n",
    "from transformers import DistilBertForTokenClassification, AdamW\n",
    "\n",
    "device = torch.device('cuda') if torch.cuda.is_available() else torch.device('cpu')\n",
    "\n",
    "model = DistilBertForTokenClassification.from_pretrained('distilbert-base-cased', num_labels=len(unique_tags))\n",
    "# Before for Sequencec Classification\n",
    "# model = DistilBertForSequenceClassification.from_pretrained('distilbert-base-uncased')\n",
    "\n",
    "model.to(device)\n",
    "model.train()\n",
    "\n",
    "train_loader = DataLoader(train_dataset, batch_size=16, shuffle=True)\n",
    "\n",
    "optim = AdamW(model.parameters(), lr=5e-5)\n",
    "\n",
    "for epoch in range(1): #3\n",
    "    for batch in train_loader:\n",
    "        optim.zero_grad()\n",
    "        input_ids = batch['input_ids'].to(device)\n",
    "        attention_mask = batch['attention_mask'].to(device)\n",
    "        labels = batch['labels'].to(device)\n",
    "        outputs = model(input_ids, attention_mask=attention_mask, labels=labels)\n",
    "        loss = outputs[0]\n",
    "        loss.backward()\n",
    "        optim.step()\n",
    "\n",
    "model.eval()"
   ]
  }
 ],
 "metadata": {
  "kernelspec": {
   "display_name": "Python 3 (ipykernel)",
   "language": "python",
   "name": "python3"
  },
  "language_info": {
   "codemirror_mode": {
    "name": "ipython",
    "version": 3
   },
   "file_extension": ".py",
   "mimetype": "text/x-python",
   "name": "python",
   "nbconvert_exporter": "python",
   "pygments_lexer": "ipython3",
   "version": "3.7.0"
  }
 },
 "nbformat": 4,
 "nbformat_minor": 5
}
